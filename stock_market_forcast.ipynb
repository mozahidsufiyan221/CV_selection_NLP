{
  "nbformat": 4,
  "nbformat_minor": 0,
  "metadata": {
    "kernelspec": {
      "display_name": "Python 3",
      "language": "python",
      "name": "python3"
    },
    "language_info": {
      "codemirror_mode": {
        "name": "ipython",
        "version": 3
      },
      "file_extension": ".py",
      "mimetype": "text/x-python",
      "name": "python",
      "nbconvert_exporter": "python",
      "pygments_lexer": "ipython3",
      "version": "3.6.7"
    },
    "colab": {
      "name": "stock_market_forcast.ipynb",
      "provenance": [],
      "include_colab_link": true
    }
  },
  "cells": [
    {
      "cell_type": "markdown",
      "metadata": {
        "id": "view-in-github",
        "colab_type": "text"
      },
      "source": [
        "<a href=\"https://colab.research.google.com/github/mozahidsufiyan221/CV_selection_NLP/blob/main/stock_market_forcast.ipynb\" target=\"_parent\"><img src=\"https://colab.research.google.com/assets/colab-badge.svg\" alt=\"Open In Colab\"/></a>"
      ]
    },
    {
      "cell_type": "code",
      "metadata": {
        "id": "oJN2glf1rLs-"
      },
      "source": [
        "path_to_project = '/gdrive/My Drive/'"
      ],
      "execution_count": null,
      "outputs": []
    },
    {
      "cell_type": "code",
      "metadata": {
        "colab": {
          "base_uri": "https://localhost:8080/"
        },
        "id": "Dw4bqs8QrVTa",
        "outputId": "72086f49-8e5f-4e11-eab5-8b2ba3a11c17"
      },
      "source": [
        "from google.colab import drive\n",
        "import pandas as pd\n",
        "drive.mount('/gdrive')"
      ],
      "execution_count": null,
      "outputs": [
        {
          "output_type": "stream",
          "text": [
            "Mounted at /gdrive\n"
          ],
          "name": "stdout"
        }
      ]
    },
    {
      "cell_type": "markdown",
      "metadata": {
        "id": "3WP8y39drIW-"
      },
      "source": [
        "### Stock Market Prediction And Forecasting Using Stacked LSTM"
      ]
    },
    {
      "cell_type": "code",
      "metadata": {
        "id": "-BKafA3rrIW-"
      },
      "source": [
        "### Keras and Tensorflow >2.0"
      ],
      "execution_count": null,
      "outputs": []
    },
    {
      "cell_type": "code",
      "metadata": {
        "id": "mxRJM_QxrIW-"
      },
      "source": [
        "### Data Collection\n",
        "import pandas_datareader as pdr\n",
        "key=\"\""
      ],
      "execution_count": null,
      "outputs": []
    },
    {
      "cell_type": "code",
      "metadata": {
        "id": "CEPu072erIW_"
      },
      "source": [
        "df = pdr.get_data_tiingo('AAPL', api_key='14b3815ea278c09a4b20425155e704401e41d6f5')"
      ],
      "execution_count": null,
      "outputs": []
    },
    {
      "cell_type": "code",
      "metadata": {
        "id": "BREU0HrurIW_"
      },
      "source": [
        "df.to_csv('AAPL.csv')"
      ],
      "execution_count": null,
      "outputs": []
    },
    {
      "cell_type": "code",
      "metadata": {
        "id": "nBdDIUjsrIW_"
      },
      "source": [
        "import pandas as pd"
      ],
      "execution_count": null,
      "outputs": []
    },
    {
      "cell_type": "code",
      "metadata": {
        "id": "SokFoeDOrIW_"
      },
      "source": [
        "df=pd.read_csv('AAPL.csv')"
      ],
      "execution_count": null,
      "outputs": []
    },
    {
      "cell_type": "code",
      "metadata": {
        "colab": {
          "base_uri": "https://localhost:8080/",
          "height": 235
        },
        "id": "DeZg3r2PrIW_",
        "outputId": "39e256d7-179b-493c-991e-64a370671771"
      },
      "source": [
        "df.head()"
      ],
      "execution_count": null,
      "outputs": [
        {
          "output_type": "execute_result",
          "data": {
            "text/html": [
              "<div>\n",
              "<style scoped>\n",
              "    .dataframe tbody tr th:only-of-type {\n",
              "        vertical-align: middle;\n",
              "    }\n",
              "\n",
              "    .dataframe tbody tr th {\n",
              "        vertical-align: top;\n",
              "    }\n",
              "\n",
              "    .dataframe thead th {\n",
              "        text-align: right;\n",
              "    }\n",
              "</style>\n",
              "<table border=\"1\" class=\"dataframe\">\n",
              "  <thead>\n",
              "    <tr style=\"text-align: right;\">\n",
              "      <th></th>\n",
              "      <th></th>\n",
              "      <th>close</th>\n",
              "      <th>high</th>\n",
              "      <th>low</th>\n",
              "      <th>open</th>\n",
              "      <th>volume</th>\n",
              "      <th>adjClose</th>\n",
              "      <th>adjHigh</th>\n",
              "      <th>adjLow</th>\n",
              "      <th>adjOpen</th>\n",
              "      <th>adjVolume</th>\n",
              "      <th>divCash</th>\n",
              "      <th>splitFactor</th>\n",
              "    </tr>\n",
              "    <tr>\n",
              "      <th>symbol</th>\n",
              "      <th>date</th>\n",
              "      <th></th>\n",
              "      <th></th>\n",
              "      <th></th>\n",
              "      <th></th>\n",
              "      <th></th>\n",
              "      <th></th>\n",
              "      <th></th>\n",
              "      <th></th>\n",
              "      <th></th>\n",
              "      <th></th>\n",
              "      <th></th>\n",
              "      <th></th>\n",
              "    </tr>\n",
              "  </thead>\n",
              "  <tbody>\n",
              "    <tr>\n",
              "      <th rowspan=\"5\" valign=\"top\">AAPL</th>\n",
              "      <th>2015-11-30 00:00:00+00:00</th>\n",
              "      <td>118.30</td>\n",
              "      <td>119.41</td>\n",
              "      <td>117.75</td>\n",
              "      <td>117.99</td>\n",
              "      <td>39180322</td>\n",
              "      <td>27.396929</td>\n",
              "      <td>27.653993</td>\n",
              "      <td>27.269555</td>\n",
              "      <td>27.325137</td>\n",
              "      <td>156721288</td>\n",
              "      <td>0.0</td>\n",
              "      <td>1.0</td>\n",
              "    </tr>\n",
              "    <tr>\n",
              "      <th>2015-12-01 00:00:00+00:00</th>\n",
              "      <td>117.34</td>\n",
              "      <td>118.81</td>\n",
              "      <td>116.86</td>\n",
              "      <td>118.75</td>\n",
              "      <td>34852374</td>\n",
              "      <td>27.174604</td>\n",
              "      <td>27.515039</td>\n",
              "      <td>27.063442</td>\n",
              "      <td>27.501144</td>\n",
              "      <td>139409496</td>\n",
              "      <td>0.0</td>\n",
              "      <td>1.0</td>\n",
              "    </tr>\n",
              "    <tr>\n",
              "      <th>2015-12-02 00:00:00+00:00</th>\n",
              "      <td>116.28</td>\n",
              "      <td>118.11</td>\n",
              "      <td>116.08</td>\n",
              "      <td>117.05</td>\n",
              "      <td>33386563</td>\n",
              "      <td>26.929120</td>\n",
              "      <td>27.352927</td>\n",
              "      <td>26.882803</td>\n",
              "      <td>27.107443</td>\n",
              "      <td>133546252</td>\n",
              "      <td>0.0</td>\n",
              "      <td>1.0</td>\n",
              "    </tr>\n",
              "    <tr>\n",
              "      <th>2015-12-03 00:00:00+00:00</th>\n",
              "      <td>115.20</td>\n",
              "      <td>116.79</td>\n",
              "      <td>114.22</td>\n",
              "      <td>116.55</td>\n",
              "      <td>41569509</td>\n",
              "      <td>26.679005</td>\n",
              "      <td>27.047230</td>\n",
              "      <td>26.452048</td>\n",
              "      <td>26.991649</td>\n",
              "      <td>166278036</td>\n",
              "      <td>0.0</td>\n",
              "      <td>1.0</td>\n",
              "    </tr>\n",
              "    <tr>\n",
              "      <th>2015-12-04 00:00:00+00:00</th>\n",
              "      <td>119.03</td>\n",
              "      <td>119.25</td>\n",
              "      <td>115.11</td>\n",
              "      <td>115.29</td>\n",
              "      <td>57776977</td>\n",
              "      <td>27.565989</td>\n",
              "      <td>27.616938</td>\n",
              "      <td>26.658162</td>\n",
              "      <td>26.699848</td>\n",
              "      <td>231107908</td>\n",
              "      <td>0.0</td>\n",
              "      <td>1.0</td>\n",
              "    </tr>\n",
              "  </tbody>\n",
              "</table>\n",
              "</div>"
            ],
            "text/plain": [
              "                                   close    high  ...  divCash  splitFactor\n",
              "symbol date                                       ...                      \n",
              "AAPL   2015-11-30 00:00:00+00:00  118.30  119.41  ...      0.0          1.0\n",
              "       2015-12-01 00:00:00+00:00  117.34  118.81  ...      0.0          1.0\n",
              "       2015-12-02 00:00:00+00:00  116.28  118.11  ...      0.0          1.0\n",
              "       2015-12-03 00:00:00+00:00  115.20  116.79  ...      0.0          1.0\n",
              "       2015-12-04 00:00:00+00:00  119.03  119.25  ...      0.0          1.0\n",
              "\n",
              "[5 rows x 12 columns]"
            ]
          },
          "metadata": {
            "tags": []
          },
          "execution_count": 8
        }
      ]
    },
    {
      "cell_type": "code",
      "metadata": {
        "colab": {
          "base_uri": "https://localhost:8080/",
          "height": 235
        },
        "id": "T8z66azGrIXA",
        "outputId": "92cb9cae-6763-4ca6-ed08-2fc9af1ac3b3"
      },
      "source": [
        "df.tail()"
      ],
      "execution_count": null,
      "outputs": [
        {
          "output_type": "execute_result",
          "data": {
            "text/html": [
              "<div>\n",
              "<style scoped>\n",
              "    .dataframe tbody tr th:only-of-type {\n",
              "        vertical-align: middle;\n",
              "    }\n",
              "\n",
              "    .dataframe tbody tr th {\n",
              "        vertical-align: top;\n",
              "    }\n",
              "\n",
              "    .dataframe thead th {\n",
              "        text-align: right;\n",
              "    }\n",
              "</style>\n",
              "<table border=\"1\" class=\"dataframe\">\n",
              "  <thead>\n",
              "    <tr style=\"text-align: right;\">\n",
              "      <th></th>\n",
              "      <th></th>\n",
              "      <th>close</th>\n",
              "      <th>high</th>\n",
              "      <th>low</th>\n",
              "      <th>open</th>\n",
              "      <th>volume</th>\n",
              "      <th>adjClose</th>\n",
              "      <th>adjHigh</th>\n",
              "      <th>adjLow</th>\n",
              "      <th>adjOpen</th>\n",
              "      <th>adjVolume</th>\n",
              "      <th>divCash</th>\n",
              "      <th>splitFactor</th>\n",
              "    </tr>\n",
              "    <tr>\n",
              "      <th>symbol</th>\n",
              "      <th>date</th>\n",
              "      <th></th>\n",
              "      <th></th>\n",
              "      <th></th>\n",
              "      <th></th>\n",
              "      <th></th>\n",
              "      <th></th>\n",
              "      <th></th>\n",
              "      <th></th>\n",
              "      <th></th>\n",
              "      <th></th>\n",
              "      <th></th>\n",
              "      <th></th>\n",
              "    </tr>\n",
              "  </thead>\n",
              "  <tbody>\n",
              "    <tr>\n",
              "      <th rowspan=\"5\" valign=\"top\">AAPL</th>\n",
              "      <th>2020-11-19 00:00:00+00:00</th>\n",
              "      <td>118.64</td>\n",
              "      <td>119.0600</td>\n",
              "      <td>116.81</td>\n",
              "      <td>117.59</td>\n",
              "      <td>74112972</td>\n",
              "      <td>118.64</td>\n",
              "      <td>119.0600</td>\n",
              "      <td>116.81</td>\n",
              "      <td>117.59</td>\n",
              "      <td>74112972</td>\n",
              "      <td>0.0</td>\n",
              "      <td>1.0</td>\n",
              "    </tr>\n",
              "    <tr>\n",
              "      <th>2020-11-20 00:00:00+00:00</th>\n",
              "      <td>117.34</td>\n",
              "      <td>118.7700</td>\n",
              "      <td>117.29</td>\n",
              "      <td>118.64</td>\n",
              "      <td>73604287</td>\n",
              "      <td>117.34</td>\n",
              "      <td>118.7700</td>\n",
              "      <td>117.29</td>\n",
              "      <td>118.64</td>\n",
              "      <td>73604287</td>\n",
              "      <td>0.0</td>\n",
              "      <td>1.0</td>\n",
              "    </tr>\n",
              "    <tr>\n",
              "      <th>2020-11-23 00:00:00+00:00</th>\n",
              "      <td>113.85</td>\n",
              "      <td>117.6202</td>\n",
              "      <td>113.75</td>\n",
              "      <td>117.18</td>\n",
              "      <td>127959318</td>\n",
              "      <td>113.85</td>\n",
              "      <td>117.6202</td>\n",
              "      <td>113.75</td>\n",
              "      <td>117.18</td>\n",
              "      <td>127959318</td>\n",
              "      <td>0.0</td>\n",
              "      <td>1.0</td>\n",
              "    </tr>\n",
              "    <tr>\n",
              "      <th>2020-11-24 00:00:00+00:00</th>\n",
              "      <td>115.17</td>\n",
              "      <td>115.8500</td>\n",
              "      <td>112.59</td>\n",
              "      <td>113.91</td>\n",
              "      <td>113226248</td>\n",
              "      <td>115.17</td>\n",
              "      <td>115.8500</td>\n",
              "      <td>112.59</td>\n",
              "      <td>113.91</td>\n",
              "      <td>113226248</td>\n",
              "      <td>0.0</td>\n",
              "      <td>1.0</td>\n",
              "    </tr>\n",
              "    <tr>\n",
              "      <th>2020-11-25 00:00:00+00:00</th>\n",
              "      <td>116.03</td>\n",
              "      <td>116.7500</td>\n",
              "      <td>115.17</td>\n",
              "      <td>115.55</td>\n",
              "      <td>76499234</td>\n",
              "      <td>116.03</td>\n",
              "      <td>116.7500</td>\n",
              "      <td>115.17</td>\n",
              "      <td>115.55</td>\n",
              "      <td>76499234</td>\n",
              "      <td>0.0</td>\n",
              "      <td>1.0</td>\n",
              "    </tr>\n",
              "  </tbody>\n",
              "</table>\n",
              "</div>"
            ],
            "text/plain": [
              "                                   close      high  ...  divCash  splitFactor\n",
              "symbol date                                         ...                      \n",
              "AAPL   2020-11-19 00:00:00+00:00  118.64  119.0600  ...      0.0          1.0\n",
              "       2020-11-20 00:00:00+00:00  117.34  118.7700  ...      0.0          1.0\n",
              "       2020-11-23 00:00:00+00:00  113.85  117.6202  ...      0.0          1.0\n",
              "       2020-11-24 00:00:00+00:00  115.17  115.8500  ...      0.0          1.0\n",
              "       2020-11-25 00:00:00+00:00  116.03  116.7500  ...      0.0          1.0\n",
              "\n",
              "[5 rows x 12 columns]"
            ]
          },
          "metadata": {
            "tags": []
          },
          "execution_count": 9
        }
      ]
    },
    {
      "cell_type": "code",
      "metadata": {
        "id": "5MGIhxulrIXA"
      },
      "source": [
        "df1=df.reset_index()['close']"
      ],
      "execution_count": null,
      "outputs": []
    },
    {
      "cell_type": "code",
      "metadata": {
        "colab": {
          "base_uri": "https://localhost:8080/"
        },
        "id": "XFzjtgIrrIXA",
        "outputId": "af08fd1b-34d8-4f85-f803-e8edd22e1edb"
      },
      "source": [
        "df1"
      ],
      "execution_count": null,
      "outputs": [
        {
          "output_type": "execute_result",
          "data": {
            "text/plain": [
              "0       118.30\n",
              "1       117.34\n",
              "2       116.28\n",
              "3       115.20\n",
              "4       119.03\n",
              "         ...  \n",
              "1253    118.64\n",
              "1254    117.34\n",
              "1255    113.85\n",
              "1256    115.17\n",
              "1257    116.03\n",
              "Name: close, Length: 1258, dtype: float64"
            ]
          },
          "metadata": {
            "tags": []
          },
          "execution_count": 11
        }
      ]
    },
    {
      "cell_type": "code",
      "metadata": {
        "colab": {
          "base_uri": "https://localhost:8080/",
          "height": 282
        },
        "id": "sztfvf4vrIXA",
        "outputId": "381c0374-1853-4094-b166-83c269ed2416"
      },
      "source": [
        "import matplotlib.pyplot as plt\n",
        "plt.plot(df1)"
      ],
      "execution_count": null,
      "outputs": [
        {
          "output_type": "execute_result",
          "data": {
            "text/plain": [
              "[<matplotlib.lines.Line2D at 0x7fce787151d0>]"
            ]
          },
          "metadata": {
            "tags": []
          },
          "execution_count": 12
        },
        {
          "output_type": "display_data",
          "data": {
            "image/png": "[encoded data removed]",
            "text/plain": [
              "<Figure size 432x288 with 1 Axes>"
            ]
          },
          "metadata": {
            "tags": [],
            "needs_background": "light"
          }
        }
      ]
    },
    {
      "cell_type": "code",
      "metadata": {
        "id": "VEP9_ctCrIXB"
      },
      "source": [
        "### LSTM are sensitive to the scale of the data. so we apply MinMax scaler "
      ],
      "execution_count": null,
      "outputs": []
    },
    {
      "cell_type": "code",
      "metadata": {
        "id": "np4KbLFyrIXB"
      },
      "source": [
        "import numpy as np"
      ],
      "execution_count": null,
      "outputs": []
    },
    {
      "cell_type": "code",
      "metadata": {
        "colab": {
          "base_uri": "https://localhost:8080/"
        },
        "id": "mQBEvtevrIXB",
        "outputId": "068c248b-d6b6-4555-8ad5-a88d59853d6b"
      },
      "source": [
        "df1"
      ],
      "execution_count": null,
      "outputs": [
        {
          "output_type": "execute_result",
          "data": {
            "text/plain": [
              "0       118.30\n",
              "1       117.34\n",
              "2       116.28\n",
              "3       115.20\n",
              "4       119.03\n",
              "         ...  \n",
              "1253    118.64\n",
              "1254    117.34\n",
              "1255    113.85\n",
              "1256    115.17\n",
              "1257    116.03\n",
              "Name: close, Length: 1258, dtype: float64"
            ]
          },
          "metadata": {
            "tags": []
          },
          "execution_count": 14
        }
      ]
    },
    {
      "cell_type": "code",
      "metadata": {
        "id": "uJ9wYEm3rIXB"
      },
      "source": [
        "from sklearn.preprocessing import MinMaxScaler\n",
        "scaler=MinMaxScaler(feature_range=(0,1))\n",
        "df1=scaler.fit_transform(np.array(df1).reshape(-1,1))"
      ],
      "execution_count": null,
      "outputs": []
    },
    {
      "cell_type": "code",
      "metadata": {
        "colab": {
          "base_uri": "https://localhost:8080/"
        },
        "id": "KhCLHwQirIXB",
        "outputId": "9f9150e1-5bd9-4e6d-d1ab-5a15610f8024"
      },
      "source": [
        "print(df1)"
      ],
      "execution_count": null,
      "outputs": [
        {
          "output_type": "stream",
          "text": [
            "[[0.06725195]\n",
            " [0.06494287]\n",
            " [0.06239327]\n",
            " ...\n",
            " [0.05654841]\n",
            " [0.05972339]\n",
            " [0.06179194]]\n"
          ],
          "name": "stdout"
        }
      ]
    },
    {
      "cell_type": "code",
      "metadata": {
        "id": "TBFJD8nirIXB"
      },
      "source": [
        "##splitting dataset into train and test split\n",
        "training_size=int(len(df1)*0.65)\n",
        "test_size=len(df1)-training_size\n",
        "train_data,test_data=df1[0:training_size,:],df1[training_size:len(df1),:1]"
      ],
      "execution_count": null,
      "outputs": []
    },
    {
      "cell_type": "code",
      "metadata": {
        "colab": {
          "base_uri": "https://localhost:8080/"
        },
        "id": "PbzvQrgFrIXB",
        "outputId": "a042828b-d3b5-4271-8a57-107596f25345"
      },
      "source": [
        "training_size,test_size"
      ],
      "execution_count": null,
      "outputs": [
        {
          "output_type": "execute_result",
          "data": {
            "text/plain": [
              "(817, 441)"
            ]
          },
          "metadata": {
            "tags": []
          },
          "execution_count": 18
        }
      ]
    },
    {
      "cell_type": "code",
      "metadata": {
        "colab": {
          "base_uri": "https://localhost:8080/"
        },
        "id": "Fx3b9Un8rIXB",
        "outputId": "6c04384b-0134-4cd8-dcb4-73f43c4e65cc"
      },
      "source": [
        "train_data"
      ],
      "execution_count": null,
      "outputs": [
        {
          "output_type": "execute_result",
          "data": {
            "text/plain": [
              "array([[0.06725195],\n",
              "       [0.06494287],\n",
              "       [0.06239327],\n",
              "       [0.05979555],\n",
              "       [0.06900782],\n",
              "       [0.06720385],\n",
              "       [0.06708358],\n",
              "       [0.06080577],\n",
              "       [0.06212868],\n",
              "       [0.05493686],\n",
              "       [0.05325316],\n",
              "       [0.04846663],\n",
              "       [0.05051112],\n",
              "       [0.04483464],\n",
              "       [0.03773903],\n",
              "       [0.0408659 ],\n",
              "       [0.04062538],\n",
              "       [0.04394468],\n",
              "       [0.04254961],\n",
              "       [0.03963921],\n",
              "       [0.04425737],\n",
              "       [0.04084185],\n",
              "       [0.03588695],\n",
              "       [0.03610343],\n",
              "       [0.02975346],\n",
              "       [0.02491882],\n",
              "       [0.01469633],\n",
              "       [0.01592303],\n",
              "       [0.01969934],\n",
              "       [0.02313891],\n",
              "       [0.01695731],\n",
              "       [0.02208058],\n",
              "       [0.01633193],\n",
              "       [0.01520144],\n",
              "       [0.01551413],\n",
              "       [0.01433554],\n",
              "       [0.02665063],\n",
              "       [0.02188815],\n",
              "       [0.02321106],\n",
              "       [0.0074083 ],\n",
              "       [0.00901984],\n",
              "       [0.01683704],\n",
              "       [0.01464823],\n",
              "       [0.00995791],\n",
              "       [0.0144558 ],\n",
              "       [0.01505713],\n",
              "       [0.00885147],\n",
              "       [0.01123271],\n",
              "       [0.01118461],\n",
              "       [0.0094528 ],\n",
              "       [0.00808178],\n",
              "       [0.00877931],\n",
              "       [0.01515334],\n",
              "       [0.01871317],\n",
              "       [0.01423933],\n",
              "       [0.01371016],\n",
              "       [0.01573061],\n",
              "       [0.01046302],\n",
              "       [0.01385448],\n",
              "       [0.01544197],\n",
              "       [0.01580277],\n",
              "       [0.0152736 ],\n",
              "       [0.02450992],\n",
              "       [0.02503909],\n",
              "       [0.02684305],\n",
              "       [0.03047505],\n",
              "       [0.02773301],\n",
              "       [0.02571257],\n",
              "       [0.02592904],\n",
              "       [0.02604931],\n",
              "       [0.02867108],\n",
              "       [0.02929645],\n",
              "       [0.03425135],\n",
              "       [0.03759471],\n",
              "       [0.03718581],\n",
              "       [0.03747444],\n",
              "       [0.03745039],\n",
              "       [0.03939868],\n",
              "       [0.03797956],\n",
              "       [0.03687312],\n",
              "       [0.03571858],\n",
              "       [0.04170776],\n",
              "       [0.04622971],\n",
              "       [0.04485869],\n",
              "       [0.04726398],\n",
              "       [0.04998196],\n",
              "       [0.04683103],\n",
              "       [0.04959711],\n",
              "       [0.04377631],\n",
              "       [0.04406494],\n",
              "       [0.04493085],\n",
              "       [0.04834636],\n",
              "       [0.05219483],\n",
              "       [0.05233915],\n",
              "       [0.04692724],\n",
              "       [0.0412267 ],\n",
              "       [0.03985568],\n",
              "       [0.04038485],\n",
              "       [0.03759471],\n",
              "       [0.03689717],\n",
              "       [0.035454  ],\n",
              "       [0.03369814],\n",
              "       [0.01799158],\n",
              "       [0.01079976],\n",
              "       [0.00817799],\n",
              "       [0.00793746],\n",
              "       [0.01164161],\n",
              "       [0.00926037],\n",
              "       [0.00697535],\n",
              "       [0.00572459],\n",
              "       [0.00589296],\n",
              "       [0.0074083 ],\n",
              "       [0.00521948],\n",
              "       [0.        ],\n",
              "       [0.00043295],\n",
              "       [0.00851473],\n",
              "       [0.00757667],\n",
              "       [0.01015033],\n",
              "       [0.00928443],\n",
              "       [0.01173782],\n",
              "       [0.01464823],\n",
              "       [0.018184  ],\n",
              "       [0.02232111],\n",
              "       [0.02422129],\n",
              "       [0.02407697],\n",
              "       [0.02289838],\n",
              "       [0.01953097],\n",
              "       [0.01775105],\n",
              "       [0.01823211],\n",
              "       [0.01993987],\n",
              "       [0.02090198],\n",
              "       [0.02068551],\n",
              "       [0.02239327],\n",
              "       [0.02042093],\n",
              "       [0.01683704],\n",
              "       [0.01712568],\n",
              "       [0.01635598],\n",
              "       [0.01734215],\n",
              "       [0.01200241],\n",
              "       [0.01144919],\n",
              "       [0.01339747],\n",
              "       [0.01253157],\n",
              "       [0.01385448],\n",
              "       [0.00736019],\n",
              "       [0.004089  ],\n",
              "       [0.0078172 ],\n",
              "       [0.00976548],\n",
              "       [0.01265183],\n",
              "       [0.01334937],\n",
              "       [0.01118461],\n",
              "       [0.01248346],\n",
              "       [0.01346963],\n",
              "       [0.01524955],\n",
              "       [0.01597114],\n",
              "       [0.01702946],\n",
              "       [0.01570655],\n",
              "       [0.02032471],\n",
              "       [0.02030066],\n",
              "       [0.02282622],\n",
              "       [0.02292243],\n",
              "       [0.02313891],\n",
              "       [0.0218641 ],\n",
              "       [0.02001203],\n",
              "       [0.01683704],\n",
              "       [0.0152255 ],\n",
              "       [0.03033073],\n",
              "       [0.03367408],\n",
              "       [0.0333614 ],\n",
              "       [0.03778713],\n",
              "       [0.03401082],\n",
              "       [0.03716176],\n",
              "       [0.03735418],\n",
              "       [0.0412267 ],\n",
              "       [0.04336741],\n",
              "       [0.04442574],\n",
              "       [0.04247745],\n",
              "       [0.04230908],\n",
              "       [0.0429104 ],\n",
              "       [0.04603728],\n",
              "       [0.04579675],\n",
              "       [0.04541191],\n",
              "       [0.04507517],\n",
              "       [0.04574865],\n",
              "       [0.04370415],\n",
              "       [0.04452195],\n",
              "       [0.04254961],\n",
              "       [0.04144317],\n",
              "       [0.03992784],\n",
              "       [0.03963921],\n",
              "       [0.03766687],\n",
              "       [0.0379074 ],\n",
              "       [0.03942273],\n",
              "       [0.04182802],\n",
              "       [0.04175586],\n",
              "       [0.04334336],\n",
              "       [0.03651233],\n",
              "       [0.03076368],\n",
              "       [0.0363199 ],\n",
              "       [0.04235719],\n",
              "       [0.0515454 ],\n",
              "       [0.06068551],\n",
              "       [0.05912207],\n",
              "       [0.05589898],\n",
              "       [0.05587492],\n",
              "       [0.05582682],\n",
              "       [0.05840048],\n",
              "       [0.05380637],\n",
              "       [0.05421527],\n",
              "       [0.05472038],\n",
              "       [0.05678894],\n",
              "       [0.05253157],\n",
              "       [0.05462417],\n",
              "       [0.05334937],\n",
              "       [0.05450391],\n",
              "       [0.05462417],\n",
              "       [0.05664462],\n",
              "       [0.05705352],\n",
              "       [0.06184005],\n",
              "       [0.06244137],\n",
              "       [0.06494287],\n",
              "       [0.06407697],\n",
              "       [0.06564041],\n",
              "       [0.06544799],\n",
              "       [0.06525556],\n",
              "       [0.06441371],\n",
              "       [0.06426939],\n",
              "       [0.06316296],\n",
              "       [0.06568851],\n",
              "       [0.06713169],\n",
              "       [0.06073361],\n",
              "       [0.05806374],\n",
              "       [0.05623572],\n",
              "       [0.05580277],\n",
              "       [0.05087192],\n",
              "       [0.05111245],\n",
              "       [0.04687913],\n",
              "       [0.0444979 ],\n",
              "       [0.0482742 ],\n",
              "       [0.04983764],\n",
              "       [0.04940469],\n",
              "       [0.04197234],\n",
              "       [0.04351173],\n",
              "       [0.03696933],\n",
              "       [0.04033674],\n",
              "       [0.04726398],\n",
              "       [0.04716777],\n",
              "       [0.04743235],\n",
              "       [0.05144919],\n",
              "       [0.05161756],\n",
              "       [0.05024654],\n",
              "       [0.05159351],\n",
              "       [0.05106434],\n",
              "       [0.05079976],\n",
              "       [0.04853879],\n",
              "       [0.04606133],\n",
              "       [0.0470475 ],\n",
              "       [0.04514732],\n",
              "       [0.04716777],\n",
              "       [0.04976548],\n",
              "       [0.05238725],\n",
              "       [0.05678894],\n",
              "       [0.0552255 ],\n",
              "       [0.0597715 ],\n",
              "       [0.0597715 ],\n",
              "       [0.06128683],\n",
              "       [0.06164762],\n",
              "       [0.06325917],\n",
              "       [0.06400481],\n",
              "       [0.06426939],\n",
              "       [0.06241732],\n",
              "       [0.06297054],\n",
              "       [0.06475045],\n",
              "       [0.06354781],\n",
              "       [0.06347565],\n",
              "       [0.06128683],\n",
              "       [0.06208058],\n",
              "       [0.06176789],\n",
              "       [0.06318701],\n",
              "       [0.06631389],\n",
              "       [0.06891161],\n",
              "       [0.06920024],\n",
              "       [0.07073963],\n",
              "       [0.06953698],\n",
              "       [0.06903187],\n",
              "       [0.07134095],\n",
              "       [0.0713169 ],\n",
              "       [0.07081179],\n",
              "       [0.07134095],\n",
              "       [0.07153337],\n",
              "       [0.07126879],\n",
              "       [0.0758629 ],\n",
              "       [0.07600722],\n",
              "       [0.07603127],\n",
              "       [0.07526158],\n",
              "       [0.07458809],\n",
              "       [0.09238725],\n",
              "       [0.09185809],\n",
              "       [0.093181  ],\n",
              "       [0.0960914 ],\n",
              "       [0.09907396],\n",
              "       [0.10030066],\n",
              "       [0.10121467],\n",
              "       [0.10049308],\n",
              "       [0.10330728],\n",
              "       [0.10746843],\n",
              "       [0.10864702],\n",
              "       [0.10825015],\n",
              "       [0.10915213],\n",
              "       [0.11150932],\n",
              "       [0.11249549],\n",
              "       [0.11110042],\n",
              "       [0.11141311],\n",
              "       [0.11206254],\n",
              "       [0.11220686],\n",
              "       [0.11894167],\n",
              "       [0.11694528],\n",
              "       [0.11891762],\n",
              "       [0.11785929],\n",
              "       [0.11829224],\n",
              "       [0.11704149],\n",
              "       [0.1162718 ],\n",
              "       [0.11737823],\n",
              "       [0.11752255],\n",
              "       [0.11701744],\n",
              "       [0.12055322],\n",
              "       [0.12110643],\n",
              "       [0.11942273],\n",
              "       [0.12295851],\n",
              "       [0.11906194],\n",
              "       [0.1228623 ],\n",
              "       [0.12165965],\n",
              "       [0.12098617],\n",
              "       [0.12156344],\n",
              "       [0.12858689],\n",
              "       [0.12935658],\n",
              "       [0.12889958],\n",
              "       [0.12825015],\n",
              "       [0.12834636],\n",
              "       [0.13092002],\n",
              "       [0.12911606],\n",
              "       [0.12825015],\n",
              "       [0.12748046],\n",
              "       [0.12707156],\n",
              "       [0.12336741],\n",
              "       [0.12377631],\n",
              "       [0.12197234],\n",
              "       [0.12384847],\n",
              "       [0.12233313],\n",
              "       [0.12108238],\n",
              "       [0.12531569],\n",
              "       [0.12490679],\n",
              "       [0.12820204],\n",
              "       [0.13034275],\n",
              "       [0.12829826],\n",
              "       [0.12856284],\n",
              "       [0.1282261 ],\n",
              "       [0.1352736 ],\n",
              "       [0.13751052],\n",
              "       [0.13642814],\n",
              "       [0.13515334],\n",
              "       [0.1409982 ],\n",
              "       [0.15073963],\n",
              "       [0.15309681],\n",
              "       [0.15134095],\n",
              "       [0.1530006 ],\n",
              "       [0.15817198],\n",
              "       [0.15720986],\n",
              "       [0.15665664],\n",
              "       [0.14410102],\n",
              "       [0.14960914],\n",
              "       [0.15085989],\n",
              "       [0.15309681],\n",
              "       [0.15263981],\n",
              "       [0.15153337],\n",
              "       [0.15280818],\n",
              "       [0.1521828 ],\n",
              "       [0.15232712],\n",
              "       [0.1501383 ],\n",
              "       [0.15114853],\n",
              "       [0.15660854],\n",
              "       [0.1529525 ],\n",
              "       [0.15420325],\n",
              "       [0.15641612],\n",
              "       [0.1555021 ],\n",
              "       [0.1410463 ],\n",
              "       [0.13248346],\n",
              "       [0.13529765],\n",
              "       [0.13185809],\n",
              "       [0.12976548],\n",
              "       [0.12490679],\n",
              "       [0.13469633],\n",
              "       [0.13149729],\n",
              "       [0.13356584],\n",
              "       [0.13298857],\n",
              "       [0.13455201],\n",
              "       [0.13344558],\n",
              "       [0.12841852],\n",
              "       [0.13346963],\n",
              "       [0.12829826],\n",
              "       [0.12911606],\n",
              "       [0.1278653 ],\n",
              "       [0.12928443],\n",
              "       [0.12601323],\n",
              "       [0.1295009 ],\n",
              "       [0.13161756],\n",
              "       [0.13274805],\n",
              "       [0.13325316],\n",
              "       [0.1381359 ],\n",
              "       [0.14119062],\n",
              "       [0.14244137],\n",
              "       [0.14369212],\n",
              "       [0.1459531 ],\n",
              "       [0.1443175 ],\n",
              "       [0.14414913],\n",
              "       [0.14852676],\n",
              "       [0.1500902 ],\n",
              "       [0.15182201],\n",
              "       [0.14484666],\n",
              "       [0.14229705],\n",
              "       [0.14044498],\n",
              "       [0.14361996],\n",
              "       [0.16067348],\n",
              "       [0.15689717],\n",
              "       [0.15886951],\n",
              "       [0.16469032],\n",
              "       [0.16774504],\n",
              "       [0.17010222],\n",
              "       [0.15629585],\n",
              "       [0.16149128],\n",
              "       [0.16719182],\n",
              "       [0.17140108],\n",
              "       [0.16983764],\n",
              "       [0.16240529],\n",
              "       [0.16153939],\n",
              "       [0.16084185],\n",
              "       [0.16702345],\n",
              "       [0.16750451],\n",
              "       [0.16579675],\n",
              "       [0.16721587],\n",
              "       [0.17108839],\n",
              "       [0.17455201],\n",
              "       [0.17561034],\n",
              "       [0.17717378],\n",
              "       [0.17729405],\n",
              "       [0.17255562],\n",
              "       [0.17214672],\n",
              "       [0.17058328],\n",
              "       [0.16425737],\n",
              "       [0.17116055],\n",
              "       [0.16962117],\n",
              "       [0.16671076],\n",
              "       [0.16341551],\n",
              "       [0.16726398],\n",
              "       [0.16435358],\n",
              "       [0.1644979 ],\n",
              "       [0.15809982],\n",
              "       [0.15165364],\n",
              "       [0.1480457 ],\n",
              "       [0.14482261],\n",
              "       [0.15105232],\n",
              "       [0.15367408],\n",
              "       [0.15138906],\n",
              "       [0.1534095 ],\n",
              "       [0.15266386],\n",
              "       [0.15427541],\n",
              "       [0.15187011],\n",
              "       [0.15646422],\n",
              "       [0.15624775],\n",
              "       [0.1575466 ],\n",
              "       [0.15769092],\n",
              "       [0.15925436],\n",
              "       [0.15793145],\n",
              "       [0.16031269],\n",
              "       [0.16726398],\n",
              "       [0.1686831 ],\n",
              "       [0.16697535],\n",
              "       [0.15788334],\n",
              "       [0.15853277],\n",
              "       [0.15834035],\n",
              "       [0.16057727],\n",
              "       [0.15891762],\n",
              "       [0.16132291],\n",
              "       [0.17488876],\n",
              "       [0.18371618],\n",
              "       [0.18929645],\n",
              "       [0.18412508],\n",
              "       [0.18705953],\n",
              "       [0.19761876],\n",
              "       [0.20182802],\n",
              "       [0.20317498],\n",
              "       [0.20661455],\n",
              "       [0.20574865],\n",
              "       [0.20283824],\n",
              "       [0.20115454],\n",
              "       [0.19482862],\n",
              "       [0.18939266],\n",
              "       [0.19425135],\n",
              "       [0.19196633],\n",
              "       [0.19155743],\n",
              "       [0.19915815],\n",
              "       [0.20353578],\n",
              "       [0.20355983],\n",
              "       [0.20144317],\n",
              "       [0.19898978],\n",
              "       [0.19035478],\n",
              "       [0.19605532],\n",
              "       [0.19413109],\n",
              "       [0.19112447],\n",
              "       [0.19073963],\n",
              "       [0.18922429],\n",
              "       [0.18996993],\n",
              "       [0.1900902 ],\n",
              "       [0.19802766],\n",
              "       [0.19569453],\n",
              "       [0.19706554],\n",
              "       [0.19694528],\n",
              "       [0.20115454],\n",
              "       [0.2070475 ],\n",
              "       [0.20252556],\n",
              "       [0.20206855],\n",
              "       [0.20365604],\n",
              "       [0.20365604],\n",
              "       [0.19297655],\n",
              "       [0.19304871],\n",
              "       [0.19420325],\n",
              "       [0.18975346],\n",
              "       [0.19704149],\n",
              "       [0.19696933],\n",
              "       [0.19889357],\n",
              "       [0.20363199],\n",
              "       [0.20206855],\n",
              "       [0.20202044],\n",
              "       [0.20192423],\n",
              "       [0.20430547],\n",
              "       [0.20865905],\n",
              "       [0.20649429],\n",
              "       [0.21349369],\n",
              "       [0.21387853],\n",
              "       [0.2119543 ],\n",
              "       [0.20844257],\n",
              "       [0.20853879],\n",
              "       [0.20175586],\n",
              "       [0.19427541],\n",
              "       [0.19523752],\n",
              "       [0.18669874],\n",
              "       [0.1843175 ],\n",
              "       [0.18542393],\n",
              "       [0.18626578],\n",
              "       [0.16875526],\n",
              "       [0.15911004],\n",
              "       [0.17484065],\n",
              "       [0.16644618],\n",
              "       [0.15588695],\n",
              "       [0.15891762],\n",
              "       [0.17407096],\n",
              "       [0.17799158],\n",
              "       [0.18527962],\n",
              "       [0.19879735],\n",
              "       [0.19745039],\n",
              "       [0.19605532],\n",
              "       [0.19417919],\n",
              "       [0.19761876],\n",
              "       [0.20483464],\n",
              "       [0.213181  ],\n",
              "       [0.21178593],\n",
              "       [0.2111365 ],\n",
              "       [0.20363199],\n",
              "       [0.20654239],\n",
              "       [0.20800962],\n",
              "       [0.20764883],\n",
              "       [0.20370415],\n",
              "       [0.20829826],\n",
              "       [0.21561034],\n",
              "       [0.21979555],\n",
              "       [0.21558629],\n",
              "       [0.21190619],\n",
              "       [0.2124113 ],\n",
              "       [0.21089597],\n",
              "       [0.20435358],\n",
              "       [0.20420926],\n",
              "       [0.19466025],\n",
              "       [0.18883945],\n",
              "       [0.17943476],\n",
              "       [0.19826819],\n",
              "       [0.18761275],\n",
              "       [0.18313891],\n",
              "       [0.18626578],\n",
              "       [0.18361996],\n",
              "       [0.18773301],\n",
              "       [0.19547805],\n",
              "       [0.19834035],\n",
              "       [0.18770896],\n",
              "       [0.1917258 ],\n",
              "       [0.19942273],\n",
              "       [0.19747444],\n",
              "       [0.20156344],\n",
              "       [0.20298256],\n",
              "       [0.20560433],\n",
              "       [0.21142514],\n",
              "       [0.21046302],\n",
              "       [0.19834035],\n",
              "       [0.18131088],\n",
              "       [0.18015634],\n",
              "       [0.17462417],\n",
              "       [0.17633193],\n",
              "       [0.17770295],\n",
              "       [0.17313289],\n",
              "       [0.18020445],\n",
              "       [0.18944077],\n",
              "       [0.2074083 ],\n",
              "       [0.20817799],\n",
              "       [0.22487072],\n",
              "       [0.22806975],\n",
              "       [0.23021046],\n",
              "       [0.2333614 ],\n",
              "       [0.23980758],\n",
              "       [0.2363199 ],\n",
              "       [0.23526158],\n",
              "       [0.23114853],\n",
              "       [0.23533373],\n",
              "       [0.23247144],\n",
              "       [0.23083584],\n",
              "       [0.23401082],\n",
              "       [0.23288034],\n",
              "       [0.23576669],\n",
              "       [0.23526158],\n",
              "       [0.23629585],\n",
              "       [0.23466025],\n",
              "       [0.23369814],\n",
              "       [0.2321828 ],\n",
              "       [0.24028863],\n",
              "       [0.24411305],\n",
              "       [0.24767288],\n",
              "       [0.24928443],\n",
              "       [0.24803367],\n",
              "       [0.24380036],\n",
              "       [0.24266987],\n",
              "       [0.24519543],\n",
              "       [0.24139507],\n",
              "       [0.2416356 ],\n",
              "       [0.23692123],\n",
              "       [0.2366807 ],\n",
              "       [0.22934456],\n",
              "       [0.23129284],\n",
              "       [0.22879134],\n",
              "       [0.22749248],\n",
              "       [0.22087793],\n",
              "       [0.22631389],\n",
              "       [0.22566446],\n",
              "       [0.22888755],\n",
              "       [0.22794949],\n",
              "       [0.23292844],\n",
              "       [0.22508719],\n",
              "       [0.22864702],\n",
              "       [0.23482862],\n",
              "       [0.24110643],\n",
              "       [0.24055322],\n",
              "       [0.23461215],\n",
              "       [0.24218882],\n",
              "       [0.2429104 ],\n",
              "       [0.24190018],\n",
              "       [0.24319904],\n",
              "       [0.24067348],\n",
              "       [0.24423331],\n",
              "       [0.24317498],\n",
              "       [0.24358388],\n",
              "       [0.24692724],\n",
              "       [0.25130487],\n",
              "       [0.24983764],\n",
              "       [0.24206855],\n",
              "       [0.23949489],\n",
              "       [0.2404089 ],\n",
              "       [0.26737222],\n",
              "       [0.28153939],\n",
              "       [0.28298256],\n",
              "       [0.28558028],\n",
              "       [0.2808659 ],\n",
              "       [0.28120265],\n",
              "       [0.28512327],\n",
              "       [0.28187613],\n",
              "       [0.28509922],\n",
              "       [0.28721587],\n",
              "       [0.28839447],\n",
              "       [0.29580277],\n",
              "       [0.30604931],\n",
              "       [0.30095009],\n",
              "       [0.29993987],\n",
              "       [0.29996392],\n",
              "       [0.30102225],\n",
              "       [0.30263379],\n",
              "       [0.30691521],\n",
              "       [0.31114853],\n",
              "       [0.31903788],\n",
              "       [0.32396873],\n",
              "       [0.33022249],\n",
              "       [0.33197835],\n",
              "       [0.32839447],\n",
              "       [0.31932652],\n",
              "       [0.31499699],\n",
              "       [0.30785328],\n",
              "       [0.32113049],\n",
              "       [0.31444378],\n",
              "       [0.32728803],\n",
              "       [0.32110643],\n",
              "       [0.3067709 ],\n",
              "       [0.3076368 ],\n",
              "       [0.30794949],\n",
              "       [0.31194227],\n",
              "       [0.30624173],\n",
              "       [0.31377029],\n",
              "       [0.3171377 ],\n",
              "       [0.31288034],\n",
              "       [0.32377631],\n",
              "       [0.32567649],\n",
              "       [0.32933253],\n",
              "       [0.33419122],\n",
              "       [0.34090198],\n",
              "       [0.33108839],\n",
              "       [0.32218882],\n",
              "       [0.32093806],\n",
              "       [0.32839447],\n",
              "       [0.30311485],\n",
              "       [0.29852075],\n",
              "       [0.31694528],\n",
              "       [0.30552014],\n",
              "       [0.31704149],\n",
              "       [0.31473241],\n",
              "       [0.30229705],\n",
              "       [0.31021046],\n",
              "       [0.31343355],\n",
              "       [0.31843656],\n",
              "       [0.30006013],\n",
              "       [0.31138906],\n",
              "       [0.30297054],\n",
              "       [0.29320505],\n",
              "       [0.29575466],\n",
              "       [0.30912808],\n",
              "       [0.31720986],\n",
              "       [0.28175586],\n",
              "       [0.2675887 ],\n",
              "       [0.27283223],\n",
              "       [0.28769693],\n",
              "       [0.28418521],\n",
              "       [0.27451594],\n",
              "       [0.24974143],\n",
              "       [0.24507517],\n",
              "       [0.23201443],\n",
              "       [0.24310283],\n",
              "       [0.24820204],\n",
              "       [0.22975346],\n",
              "       [0.20839447],\n",
              "       [0.20791341],\n",
              "       [0.19711365],\n",
              "       [0.20271798],\n",
              "       [0.20180397],\n",
              "       [0.21791942],\n",
              "       [0.21457607],\n",
              "       [0.21224293],\n",
              "       [0.22725195],\n",
              "       [0.20769693],\n",
              "       [0.20295851],\n",
              "       [0.18797354],\n",
              "       [0.19064342],\n",
              "       [0.18831028],\n",
              "       [0.18944077],\n",
              "       [0.19389056],\n",
              "       [0.18073361],\n",
              "       [0.17702946],\n",
              "       [0.18215274],\n",
              "       [0.16969333],\n",
              "       [0.15992784],\n",
              "       [0.14525556],\n",
              "       [0.13587492],\n",
              "       [0.16074564],\n",
              "       [0.15829224],\n",
              "       [0.15848467],\n",
              "       [0.16211666],\n",
              "       [0.16254961],\n",
              "       [0.12471437],\n",
              "       [0.13931449],\n",
              "       [0.13852075],\n",
              "       [0.14530367],\n",
              "       [0.15146121],\n",
              "       [0.15263981],\n",
              "       [0.14900782],\n",
              "       [0.1434997 ],\n",
              "       [0.15088394],\n",
              "       [0.15538184],\n",
              "       [0.15759471],\n",
              "       [0.15990379],\n",
              "       [0.15143716],\n",
              "       [0.15292844],\n",
              "       [0.14999399],\n",
              "       [0.16216476],\n",
              "       [0.15865304],\n",
              "       [0.15475646],\n",
              "       [0.1801804 ],\n",
              "       [0.18304269],\n",
              "       [0.18323512],\n",
              "       [0.19461215],\n",
              "       [0.20165965],\n",
              "       [0.20180397],\n",
              "       [0.19386651],\n",
              "       [0.1925917 ],\n",
              "       [0.19023452],\n",
              "       [0.19374624],\n",
              "       [0.19203848],\n",
              "       [0.19352977],\n",
              "       [0.19261575],\n",
              "       [0.19384245],\n",
              "       [0.19648827],\n",
              "       [0.19415514],\n",
              "       [0.19874925],\n",
              "       [0.20177992],\n",
              "       [0.20202044],\n",
              "       [0.2033193 ],\n",
              "       [0.1991822 ]])"
            ]
          },
          "metadata": {
            "tags": []
          },
          "execution_count": 19
        }
      ]
    },
    {
      "cell_type": "code",
      "metadata": {
        "id": "TJ38OFLDrIXB"
      },
      "source": [
        "import numpy\n",
        "# convert an array of values into a dataset matrix\n",
        "def create_dataset(dataset, time_step=1):\n",
        "\tdataX, dataY = [], []\n",
        "\tfor i in range(len(dataset)-time_step-1):\n",
        "\t\ta = dataset[i:(i+time_step), 0]   ###i=0, 0,1,2,3-----99   100 \n",
        "\t\tdataX.append(a)\n",
        "\t\tdataY.append(dataset[i + time_step, 0])\n",
        "\treturn numpy.array(dataX), numpy.array(dataY)"
      ],
      "execution_count": null,
      "outputs": []
    },
    {
      "cell_type": "code",
      "metadata": {
        "id": "_zDMoYsPrIXB"
      },
      "source": [
        "# reshape into X=t,t+1,t+2,t+3 and Y=t+4\n",
        "time_step = 100\n",
        "X_train, y_train = create_dataset(train_data, time_step)\n",
        "X_test, ytest = create_dataset(test_data, time_step)"
      ],
      "execution_count": null,
      "outputs": []
    },
    {
      "cell_type": "code",
      "metadata": {
        "colab": {
          "base_uri": "https://localhost:8080/"
        },
        "id": "I7ySU2oMrIXB",
        "outputId": "c1aceda3-9771-45c2-9953-b9d9fb0dd523"
      },
      "source": [
        "print(X_train.shape), print(y_train.shape)"
      ],
      "execution_count": null,
      "outputs": [
        {
          "output_type": "stream",
          "text": [
            "(716, 100)\n",
            "(716,)\n"
          ],
          "name": "stdout"
        },
        {
          "output_type": "execute_result",
          "data": {
            "text/plain": [
              "(None, None)"
            ]
          },
          "metadata": {
            "tags": []
          },
          "execution_count": 22
        }
      ]
    },
    {
      "cell_type": "code",
      "metadata": {
        "colab": {
          "base_uri": "https://localhost:8080/"
        },
        "id": "_YdYAgJxrIXB",
        "outputId": "02e0b017-4c49-42fe-b648-a8cce691adfa"
      },
      "source": [
        "print(X_test.shape), print(ytest.shape)"
      ],
      "execution_count": null,
      "outputs": [
        {
          "output_type": "stream",
          "text": [
            "(340, 100)\n",
            "(340,)\n"
          ],
          "name": "stdout"
        },
        {
          "output_type": "execute_result",
          "data": {
            "text/plain": [
              "(None, None)"
            ]
          },
          "metadata": {
            "tags": []
          },
          "execution_count": 23
        }
      ]
    },
    {
      "cell_type": "code",
      "metadata": {
        "id": "1Vq9hUKfrIXB"
      },
      "source": [
        "# reshape input to be [samples, time steps, features] which is required for LSTM\n",
        "X_train =X_train.reshape(X_train.shape[0],X_train.shape[1] , 1)\n",
        "X_test = X_test.reshape(X_test.shape[0],X_test.shape[1] , 1)"
      ],
      "execution_count": null,
      "outputs": []
    },
    {
      "cell_type": "code",
      "metadata": {
        "id": "anmA3qq6rIXB"
      },
      "source": [
        "### Create the Stacked LSTM model\n",
        "from tensorflow.keras.models import Sequential\n",
        "from tensorflow.keras.layers import Dense\n",
        "from tensorflow.keras.layers import LSTM"
      ],
      "execution_count": null,
      "outputs": []
    },
    {
      "cell_type": "code",
      "metadata": {
        "id": "ajoTUbc6rIXB"
      },
      "source": [
        "model=Sequential()\n",
        "model.add(LSTM(50,return_sequences=True,input_shape=(100,1)))\n",
        "model.add(LSTM(50,return_sequences=True))\n",
        "model.add(LSTM(50))\n",
        "model.add(Dense(1))\n",
        "model.compile(loss='mean_squared_error',optimizer='adam')\n"
      ],
      "execution_count": null,
      "outputs": []
    },
    {
      "cell_type": "code",
      "metadata": {
        "colab": {
          "base_uri": "https://localhost:8080/"
        },
        "id": "eJSbEPkhrIXC",
        "outputId": "ed671bf3-4598-42ad-d0e6-1525ba2b5d45"
      },
      "source": [
        "model.summary()"
      ],
      "execution_count": null,
      "outputs": [
        {
          "output_type": "stream",
          "text": [
            "Model: \"sequential\"\n",
            "_________________________________________________________________\n",
            "Layer (type)                 Output Shape              Param #   \n",
            "=================================================================\n",
            "lstm (LSTM)                  (None, 100, 50)           10400     \n",
            "_________________________________________________________________\n",
            "lstm_1 (LSTM)                (None, 100, 50)           20200     \n",
            "_________________________________________________________________\n",
            "lstm_2 (LSTM)                (None, 50)                20200     \n",
            "_________________________________________________________________\n",
            "dense (Dense)                (None, 1)                 51        \n",
            "=================================================================\n",
            "Total params: 50,851\n",
            "Trainable params: 50,851\n",
            "Non-trainable params: 0\n",
            "_________________________________________________________________\n"
          ],
          "name": "stdout"
        }
      ]
    },
    {
      "cell_type": "code",
      "metadata": {
        "colab": {
          "base_uri": "https://localhost:8080/"
        },
        "id": "fB4-MC7UrIXC",
        "outputId": "322f237c-b4d7-4395-a72f-ed9245032047"
      },
      "source": [
        "model.summary()"
      ],
      "execution_count": null,
      "outputs": [
        {
          "output_type": "stream",
          "text": [
            "Model: \"sequential\"\n",
            "_________________________________________________________________\n",
            "Layer (type)                 Output Shape              Param #   \n",
            "=================================================================\n",
            "lstm (LSTM)                  (None, 100, 50)           10400     \n",
            "_________________________________________________________________\n",
            "lstm_1 (LSTM)                (None, 100, 50)           20200     \n",
            "_________________________________________________________________\n",
            "lstm_2 (LSTM)                (None, 50)                20200     \n",
            "_________________________________________________________________\n",
            "dense (Dense)                (None, 1)                 51        \n",
            "=================================================================\n",
            "Total params: 50,851\n",
            "Trainable params: 50,851\n",
            "Non-trainable params: 0\n",
            "_________________________________________________________________\n"
          ],
          "name": "stdout"
        }
      ]
    },
    {
      "cell_type": "code",
      "metadata": {
        "colab": {
          "base_uri": "https://localhost:8080/"
        },
        "id": "C35YsSaxrIXC",
        "outputId": "4d0a9649-e151-47de-9b1e-4233c1142ef6"
      },
      "source": [
        "model.fit(X_train,y_train,validation_data=(X_test,ytest),epochs=100,batch_size=64,verbose=1)"
      ],
      "execution_count": null,
      "outputs": [
        {
          "output_type": "stream",
          "text": [
            "Epoch 1/100\n",
            "12/12 [==============================] - 3s 282ms/step - loss: 0.0088 - val_loss: 0.0526\n",
            "Epoch 2/100\n",
            "12/12 [==============================] - 2s 199ms/step - loss: 0.0022 - val_loss: 0.0204\n",
            "Epoch 3/100\n",
            "12/12 [==============================] - 2s 193ms/step - loss: 7.0249e-04 - val_loss: 0.0220\n",
            "Epoch 4/100\n",
            "12/12 [==============================] - 2s 194ms/step - loss: 4.2365e-04 - val_loss: 0.0197\n",
            "Epoch 5/100\n",
            "12/12 [==============================] - 2s 190ms/step - loss: 3.5532e-04 - val_loss: 0.0186\n",
            "Epoch 6/100\n",
            "12/12 [==============================] - 2s 192ms/step - loss: 3.1829e-04 - val_loss: 0.0182\n",
            "Epoch 7/100\n",
            "12/12 [==============================] - 2s 200ms/step - loss: 3.1505e-04 - val_loss: 0.0177\n",
            "Epoch 8/100\n",
            "12/12 [==============================] - 2s 202ms/step - loss: 3.0976e-04 - val_loss: 0.0174\n",
            "Epoch 9/100\n",
            "12/12 [==============================] - 2s 198ms/step - loss: 2.9220e-04 - val_loss: 0.0169\n",
            "Epoch 10/100\n",
            "12/12 [==============================] - 2s 194ms/step - loss: 2.9019e-04 - val_loss: 0.0163\n",
            "Epoch 11/100\n",
            "12/12 [==============================] - 2s 192ms/step - loss: 2.6734e-04 - val_loss: 0.0159\n",
            "Epoch 12/100\n",
            "12/12 [==============================] - 2s 191ms/step - loss: 2.5764e-04 - val_loss: 0.0155\n",
            "Epoch 13/100\n",
            "12/12 [==============================] - 2s 190ms/step - loss: 2.9949e-04 - val_loss: 0.0151\n",
            "Epoch 14/100\n",
            "12/12 [==============================] - 2s 187ms/step - loss: 2.5610e-04 - val_loss: 0.0152\n",
            "Epoch 15/100\n",
            "12/12 [==============================] - 2s 192ms/step - loss: 2.3471e-04 - val_loss: 0.0144\n",
            "Epoch 16/100\n",
            "12/12 [==============================] - 2s 195ms/step - loss: 2.2894e-04 - val_loss: 0.0145\n",
            "Epoch 17/100\n",
            "12/12 [==============================] - 2s 194ms/step - loss: 2.1156e-04 - val_loss: 0.0142\n",
            "Epoch 18/100\n",
            "12/12 [==============================] - 2s 192ms/step - loss: 2.0766e-04 - val_loss: 0.0139\n",
            "Epoch 19/100\n",
            "12/12 [==============================] - 2s 195ms/step - loss: 2.0484e-04 - val_loss: 0.0145\n",
            "Epoch 20/100\n",
            "12/12 [==============================] - 2s 193ms/step - loss: 1.9637e-04 - val_loss: 0.0148\n",
            "Epoch 21/100\n",
            "12/12 [==============================] - 2s 193ms/step - loss: 1.9115e-04 - val_loss: 0.0158\n",
            "Epoch 22/100\n",
            "12/12 [==============================] - 2s 196ms/step - loss: 2.0344e-04 - val_loss: 0.0142\n",
            "Epoch 23/100\n",
            "12/12 [==============================] - 2s 195ms/step - loss: 1.9441e-04 - val_loss: 0.0173\n",
            "Epoch 24/100\n",
            "12/12 [==============================] - 2s 192ms/step - loss: 2.3787e-04 - val_loss: 0.0137\n",
            "Epoch 25/100\n",
            "12/12 [==============================] - 2s 192ms/step - loss: 1.8373e-04 - val_loss: 0.0143\n",
            "Epoch 26/100\n",
            "12/12 [==============================] - 2s 195ms/step - loss: 1.9919e-04 - val_loss: 0.0143\n",
            "Epoch 27/100\n",
            "12/12 [==============================] - 2s 197ms/step - loss: 1.9120e-04 - val_loss: 0.0134\n",
            "Epoch 28/100\n",
            "12/12 [==============================] - 2s 197ms/step - loss: 1.9257e-04 - val_loss: 0.0147\n",
            "Epoch 29/100\n",
            "12/12 [==============================] - 2s 198ms/step - loss: 1.9261e-04 - val_loss: 0.0132\n",
            "Epoch 30/100\n",
            "12/12 [==============================] - 2s 193ms/step - loss: 2.1596e-04 - val_loss: 0.0145\n",
            "Epoch 31/100\n",
            "12/12 [==============================] - 2s 194ms/step - loss: 2.1371e-04 - val_loss: 0.0129\n",
            "Epoch 32/100\n",
            "12/12 [==============================] - 2s 196ms/step - loss: 2.2368e-04 - val_loss: 0.0136\n",
            "Epoch 33/100\n",
            "12/12 [==============================] - 2s 193ms/step - loss: 2.5456e-04 - val_loss: 0.0125\n",
            "Epoch 34/100\n",
            "12/12 [==============================] - 2s 190ms/step - loss: 1.9042e-04 - val_loss: 0.0131\n",
            "Epoch 35/100\n",
            "12/12 [==============================] - 2s 195ms/step - loss: 1.7132e-04 - val_loss: 0.0142\n",
            "Epoch 36/100\n",
            "12/12 [==============================] - 2s 197ms/step - loss: 1.6661e-04 - val_loss: 0.0133\n",
            "Epoch 37/100\n",
            "12/12 [==============================] - 2s 194ms/step - loss: 1.7051e-04 - val_loss: 0.0137\n",
            "Epoch 38/100\n",
            "12/12 [==============================] - 2s 195ms/step - loss: 1.5965e-04 - val_loss: 0.0136\n",
            "Epoch 39/100\n",
            "12/12 [==============================] - 2s 197ms/step - loss: 1.6453e-04 - val_loss: 0.0136\n",
            "Epoch 40/100\n",
            "12/12 [==============================] - 2s 197ms/step - loss: 1.6146e-04 - val_loss: 0.0134\n",
            "Epoch 41/100\n",
            "12/12 [==============================] - 2s 195ms/step - loss: 1.5299e-04 - val_loss: 0.0133\n",
            "Epoch 42/100\n",
            "12/12 [==============================] - 2s 196ms/step - loss: 1.6994e-04 - val_loss: 0.0128\n",
            "Epoch 43/100\n",
            "12/12 [==============================] - 2s 192ms/step - loss: 1.5550e-04 - val_loss: 0.0136\n",
            "Epoch 44/100\n",
            "12/12 [==============================] - 2s 199ms/step - loss: 1.6264e-04 - val_loss: 0.0131\n",
            "Epoch 45/100\n",
            "12/12 [==============================] - 2s 194ms/step - loss: 1.5080e-04 - val_loss: 0.0129\n",
            "Epoch 46/100\n",
            "12/12 [==============================] - 2s 194ms/step - loss: 1.5034e-04 - val_loss: 0.0128\n",
            "Epoch 47/100\n",
            "12/12 [==============================] - 2s 192ms/step - loss: 1.4801e-04 - val_loss: 0.0130\n",
            "Epoch 48/100\n",
            "12/12 [==============================] - 2s 200ms/step - loss: 1.5244e-04 - val_loss: 0.0124\n",
            "Epoch 49/100\n",
            "12/12 [==============================] - 2s 194ms/step - loss: 1.6309e-04 - val_loss: 0.0130\n",
            "Epoch 50/100\n",
            "12/12 [==============================] - 2s 198ms/step - loss: 1.6468e-04 - val_loss: 0.0126\n",
            "Epoch 51/100\n",
            "12/12 [==============================] - 2s 196ms/step - loss: 1.6533e-04 - val_loss: 0.0126\n",
            "Epoch 52/100\n",
            "12/12 [==============================] - 2s 199ms/step - loss: 1.9051e-04 - val_loss: 0.0118\n",
            "Epoch 53/100\n",
            "12/12 [==============================] - 2s 196ms/step - loss: 1.8043e-04 - val_loss: 0.0124\n",
            "Epoch 54/100\n",
            "12/12 [==============================] - 2s 199ms/step - loss: 1.6641e-04 - val_loss: 0.0127\n",
            "Epoch 55/100\n",
            "12/12 [==============================] - 2s 195ms/step - loss: 1.4825e-04 - val_loss: 0.0124\n",
            "Epoch 56/100\n",
            "12/12 [==============================] - 2s 197ms/step - loss: 1.4136e-04 - val_loss: 0.0125\n",
            "Epoch 57/100\n",
            "12/12 [==============================] - 2s 197ms/step - loss: 1.3722e-04 - val_loss: 0.0126\n",
            "Epoch 58/100\n",
            "12/12 [==============================] - 2s 201ms/step - loss: 1.3495e-04 - val_loss: 0.0125\n",
            "Epoch 59/100\n",
            "12/12 [==============================] - 2s 194ms/step - loss: 1.3226e-04 - val_loss: 0.0123\n",
            "Epoch 60/100\n",
            "12/12 [==============================] - 2s 196ms/step - loss: 1.4709e-04 - val_loss: 0.0121\n",
            "Epoch 61/100\n",
            "12/12 [==============================] - 2s 195ms/step - loss: 1.4178e-04 - val_loss: 0.0116\n",
            "Epoch 62/100\n",
            "12/12 [==============================] - 2s 193ms/step - loss: 1.2983e-04 - val_loss: 0.0113\n",
            "Epoch 63/100\n",
            "12/12 [==============================] - 2s 197ms/step - loss: 1.3285e-04 - val_loss: 0.0112\n",
            "Epoch 64/100\n",
            "12/12 [==============================] - 2s 200ms/step - loss: 1.5220e-04 - val_loss: 0.0122\n",
            "Epoch 65/100\n",
            "12/12 [==============================] - 2s 195ms/step - loss: 1.4646e-04 - val_loss: 0.0113\n",
            "Epoch 66/100\n",
            "12/12 [==============================] - 2s 194ms/step - loss: 1.4756e-04 - val_loss: 0.0122\n",
            "Epoch 67/100\n",
            "12/12 [==============================] - 2s 193ms/step - loss: 1.3404e-04 - val_loss: 0.0109\n",
            "Epoch 68/100\n",
            "12/12 [==============================] - 2s 200ms/step - loss: 1.2432e-04 - val_loss: 0.0126\n",
            "Epoch 69/100\n",
            "12/12 [==============================] - 2s 198ms/step - loss: 1.3365e-04 - val_loss: 0.0108\n",
            "Epoch 70/100\n",
            "12/12 [==============================] - 2s 196ms/step - loss: 1.1958e-04 - val_loss: 0.0099\n",
            "Epoch 71/100\n",
            "12/12 [==============================] - 2s 198ms/step - loss: 1.1741e-04 - val_loss: 0.0101\n",
            "Epoch 72/100\n",
            "12/12 [==============================] - 2s 201ms/step - loss: 1.1710e-04 - val_loss: 0.0096\n",
            "Epoch 73/100\n",
            "12/12 [==============================] - 2s 197ms/step - loss: 1.1390e-04 - val_loss: 0.0101\n",
            "Epoch 74/100\n",
            "12/12 [==============================] - 2s 196ms/step - loss: 1.1891e-04 - val_loss: 0.0098\n",
            "Epoch 75/100\n",
            "12/12 [==============================] - 2s 200ms/step - loss: 1.1553e-04 - val_loss: 0.0090\n",
            "Epoch 76/100\n",
            "12/12 [==============================] - 2s 196ms/step - loss: 1.1375e-04 - val_loss: 0.0100\n",
            "Epoch 77/100\n",
            "12/12 [==============================] - 2s 194ms/step - loss: 1.0643e-04 - val_loss: 0.0088\n",
            "Epoch 78/100\n",
            "12/12 [==============================] - 2s 196ms/step - loss: 1.1925e-04 - val_loss: 0.0084\n",
            "Epoch 79/100\n",
            "12/12 [==============================] - 2s 195ms/step - loss: 1.1438e-04 - val_loss: 0.0085\n",
            "Epoch 80/100\n",
            "12/12 [==============================] - 2s 194ms/step - loss: 1.0616e-04 - val_loss: 0.0082\n",
            "Epoch 81/100\n",
            "12/12 [==============================] - 2s 196ms/step - loss: 1.1226e-04 - val_loss: 0.0080\n",
            "Epoch 82/100\n",
            "12/12 [==============================] - 2s 195ms/step - loss: 1.1326e-04 - val_loss: 0.0078\n",
            "Epoch 83/100\n",
            "12/12 [==============================] - 2s 195ms/step - loss: 1.0378e-04 - val_loss: 0.0088\n",
            "Epoch 84/100\n",
            "12/12 [==============================] - 2s 193ms/step - loss: 1.2981e-04 - val_loss: 0.0084\n",
            "Epoch 85/100\n",
            "12/12 [==============================] - 2s 196ms/step - loss: 1.1342e-04 - val_loss: 0.0078\n",
            "Epoch 86/100\n",
            "12/12 [==============================] - 2s 201ms/step - loss: 1.0361e-04 - val_loss: 0.0085\n",
            "Epoch 87/100\n",
            "12/12 [==============================] - 2s 196ms/step - loss: 1.0420e-04 - val_loss: 0.0073\n",
            "Epoch 88/100\n",
            "12/12 [==============================] - 2s 195ms/step - loss: 1.2918e-04 - val_loss: 0.0089\n",
            "Epoch 89/100\n",
            "12/12 [==============================] - 2s 196ms/step - loss: 1.3413e-04 - val_loss: 0.0074\n",
            "Epoch 90/100\n",
            "12/12 [==============================] - 2s 196ms/step - loss: 1.1145e-04 - val_loss: 0.0079\n",
            "Epoch 91/100\n",
            "12/12 [==============================] - 2s 195ms/step - loss: 1.0493e-04 - val_loss: 0.0076\n",
            "Epoch 92/100\n",
            "12/12 [==============================] - 2s 198ms/step - loss: 9.8024e-05 - val_loss: 0.0077\n",
            "Epoch 93/100\n",
            "12/12 [==============================] - 2s 198ms/step - loss: 9.8798e-05 - val_loss: 0.0077\n",
            "Epoch 94/100\n",
            "12/12 [==============================] - 3s 214ms/step - loss: 9.0261e-05 - val_loss: 0.0071\n",
            "Epoch 95/100\n",
            "12/12 [==============================] - 3s 214ms/step - loss: 8.9755e-05 - val_loss: 0.0078\n",
            "Epoch 96/100\n",
            "12/12 [==============================] - 3s 213ms/step - loss: 9.0055e-05 - val_loss: 0.0070\n",
            "Epoch 97/100\n",
            "12/12 [==============================] - 2s 206ms/step - loss: 9.6391e-05 - val_loss: 0.0084\n",
            "Epoch 98/100\n",
            "12/12 [==============================] - 2s 202ms/step - loss: 1.1230e-04 - val_loss: 0.0067\n",
            "Epoch 99/100\n",
            "12/12 [==============================] - 2s 196ms/step - loss: 9.3030e-05 - val_loss: 0.0061\n",
            "Epoch 100/100\n",
            "12/12 [==============================] - 2s 195ms/step - loss: 8.6438e-05 - val_loss: 0.0065\n"
          ],
          "name": "stdout"
        },
        {
          "output_type": "execute_result",
          "data": {
            "text/plain": [
              "<tensorflow.python.keras.callbacks.History at 0x7fce36e0dfd0>"
            ]
          },
          "metadata": {
            "tags": []
          },
          "execution_count": 29
        }
      ]
    },
    {
      "cell_type": "code",
      "metadata": {
        "id": "Db5evJEPrIXC"
      },
      "source": [
        "import tensorflow as tf"
      ],
      "execution_count": null,
      "outputs": []
    },
    {
      "cell_type": "code",
      "metadata": {
        "colab": {
          "base_uri": "https://localhost:8080/",
          "height": 35
        },
        "id": "5pr19G4vrIXC",
        "outputId": "c8f35c5b-3518-4558-d005-21c70de68da6"
      },
      "source": [
        "tf.__version__"
      ],
      "execution_count": null,
      "outputs": [
        {
          "output_type": "execute_result",
          "data": {
            "application/vnd.google.colaboratory.intrinsic+json": {
              "type": "string"
            },
            "text/plain": [
              "'2.3.0'"
            ]
          },
          "metadata": {
            "tags": []
          },
          "execution_count": 31
        }
      ]
    },
    {
      "cell_type": "code",
      "metadata": {
        "id": "UOytjNUkrIXC"
      },
      "source": [
        "### Lets Do the prediction and check performance metrics\n",
        "train_predict=model.predict(X_train)\n",
        "test_predict=model.predict(X_test)"
      ],
      "execution_count": null,
      "outputs": []
    },
    {
      "cell_type": "code",
      "metadata": {
        "id": "7QFbQkmMrIXC"
      },
      "source": [
        "##Transformback to original form\n",
        "train_predict=scaler.inverse_transform(train_predict)\n",
        "test_predict=scaler.inverse_transform(test_predict)"
      ],
      "execution_count": null,
      "outputs": []
    },
    {
      "cell_type": "code",
      "metadata": {
        "colab": {
          "base_uri": "https://localhost:8080/"
        },
        "id": "boUu7k-MrIXC",
        "outputId": "83df3ecf-bc43-4042-ed46-02cd69f7b015"
      },
      "source": [
        "### Calculate RMSE performance metrics\n",
        "import math\n",
        "from sklearn.metrics import mean_squared_error\n",
        "math.sqrt(mean_squared_error(y_train,train_predict))"
      ],
      "execution_count": null,
      "outputs": [
        {
          "output_type": "execute_result",
          "data": {
            "text/plain": [
              "157.29987742052128"
            ]
          },
          "metadata": {
            "tags": []
          },
          "execution_count": 34
        }
      ]
    },
    {
      "cell_type": "code",
      "metadata": {
        "colab": {
          "base_uri": "https://localhost:8080/"
        },
        "id": "So41E8F6rIXC",
        "outputId": "f62cb8c5-4248-427f-e94e-7bb9bde44b05"
      },
      "source": [
        "### Test Data RMSE\n",
        "math.sqrt(mean_squared_error(ytest,test_predict))"
      ],
      "execution_count": null,
      "outputs": [
        {
          "output_type": "execute_result",
          "data": {
            "text/plain": [
              "281.52863337294383"
            ]
          },
          "metadata": {
            "tags": []
          },
          "execution_count": 35
        }
      ]
    },
    {
      "cell_type": "code",
      "metadata": {
        "colab": {
          "base_uri": "https://localhost:8080/",
          "height": 265
        },
        "id": "s_Akn2RurIXC",
        "outputId": "26f329f0-f593-4f3f-acd6-50c02689bf20"
      },
      "source": [
        "### Plotting \n",
        "# shift train predictions for plotting\n",
        "look_back=100\n",
        "trainPredictPlot = numpy.empty_like(df1)\n",
        "trainPredictPlot[:, :] = np.nan\n",
        "trainPredictPlot[look_back:len(train_predict)+look_back, :] = train_predict\n",
        "# shift test predictions for plotting\n",
        "testPredictPlot = numpy.empty_like(df1)\n",
        "testPredictPlot[:, :] = numpy.nan\n",
        "testPredictPlot[len(train_predict)+(look_back*2)+1:len(df1)-1, :] = test_predict\n",
        "# plot baseline and predictions\n",
        "plt.plot(scaler.inverse_transform(df1))\n",
        "plt.plot(trainPredictPlot)\n",
        "plt.plot(testPredictPlot)\n",
        "plt.show()"
      ],
      "execution_count": null,
      "outputs": [
        {
          "output_type": "display_data",
          "data": {
            "image/png": "[encoded data removed]",
            "text/plain": [
              "<Figure size 432x288 with 1 Axes>"
            ]
          },
          "metadata": {
            "tags": [],
            "needs_background": "light"
          }
        }
      ]
    },
    {
      "cell_type": "code",
      "metadata": {
        "colab": {
          "base_uri": "https://localhost:8080/"
        },
        "id": "_zmgApNGrIXC",
        "outputId": "9c8a9064-1b2f-445b-e134-7654cda323bf"
      },
      "source": [
        "len(test_data)"
      ],
      "execution_count": null,
      "outputs": [
        {
          "output_type": "execute_result",
          "data": {
            "text/plain": [
              "441"
            ]
          },
          "metadata": {
            "tags": []
          },
          "execution_count": 37
        }
      ]
    },
    {
      "cell_type": "code",
      "metadata": {
        "colab": {
          "base_uri": "https://localhost:8080/"
        },
        "id": "UW0nLkgarIXC",
        "outputId": "826019ec-6ea7-4c6b-fc3a-aa46f8261475"
      },
      "source": [
        "x_input=test_data[341:].reshape(1,-1)\n",
        "x_input.shape\n"
      ],
      "execution_count": null,
      "outputs": [
        {
          "output_type": "execute_result",
          "data": {
            "text/plain": [
              "(1, 100)"
            ]
          },
          "metadata": {
            "tags": []
          },
          "execution_count": 38
        }
      ]
    },
    {
      "cell_type": "code",
      "metadata": {
        "id": "uI75R9vIrIXC"
      },
      "source": [
        "temp_input=list(x_input)\n",
        "temp_input=temp_input[0].tolist()"
      ],
      "execution_count": null,
      "outputs": []
    },
    {
      "cell_type": "code",
      "metadata": {
        "colab": {
          "base_uri": "https://localhost:8080/"
        },
        "id": "zkPSYBIdrIXC",
        "outputId": "7f135f3d-ac1d-4923-da1c-f23d780f1c61"
      },
      "source": [
        "temp_input"
      ],
      "execution_count": null,
      "outputs": [
        {
          "output_type": "execute_result",
          "data": {
            "text/plain": [
              "[0.7000120264582081,\n",
              " 0.7039567047504509,\n",
              " 0.7055682501503309,\n",
              " 0.7013108839446784,\n",
              " 0.7165123271196634,\n",
              " 0.7229344558027659,\n",
              " 0.7113650030066145,\n",
              " 0.7094888755261575,\n",
              " 0.7290198436560433,\n",
              " 0.7159591100420926,\n",
              " 0.7185808779314491,\n",
              " 0.6759831629585087,\n",
              " 0.673770294648226,\n",
              " 0.6948887552615755,\n",
              " 0.6799037883343355,\n",
              " 0.6971016235718581,\n",
              " 0.7081659651232712,\n",
              " 0.8050511124473845,\n",
              " 0.830811785929044,\n",
              " 0.8378111846061336,\n",
              " 0.841635598316296,\n",
              " 0.8785808779314492,\n",
              " 0.8517378232110644,\n",
              " 0.8672760072158752,\n",
              " 0.8350210463018641,\n",
              " 0.8699939867708961,\n",
              " 0.8892363199037885,\n",
              " 0.8882501503307276,\n",
              " 0.8853638003607938,\n",
              " 0.89455201443175,\n",
              " 0.8959470835838845,\n",
              " 0.9206494287432352,\n",
              " 0.9792904389657247,\n",
              " 0.9936019242333134,\n",
              " 0.9836680697534577,\n",
              " 1.0,\n",
              " 0.9854479855682503,\n",
              " 0.983499699338545,\n",
              " 0.09308478653036678,\n",
              " 0.10544798556825014,\n",
              " 0.09876127480457003,\n",
              " 0.07345760673481655,\n",
              " 0.07365003006614551,\n",
              " 0.05407095610342749,\n",
              " 0.06489476849067943,\n",
              " 0.055682501503307225,\n",
              " 0.052098616957306054,\n",
              " 0.0601683704149128,\n",
              " 0.06061334936861096,\n",
              " 0.05241130487071555,\n",
              " 0.04810583283223091,\n",
              " 0.03968731208659049,\n",
              " 0.04748045700541187,\n",
              " 0.05164161154539987,\n",
              " 0.04036079374624174,\n",
              " 0.04300661455201443,\n",
              " 0.05277209861695731,\n",
              " 0.05921828021647624,\n",
              " 0.05712567648827421,\n",
              " 0.06126277811184605,\n",
              " 0.06361996392062536,\n",
              " 0.05455201443174984,\n",
              " 0.062922429344558,\n",
              " 0.05488875526157544,\n",
              " 0.059506915213469624,\n",
              " 0.059242333132892344,\n",
              " 0.06405291641611544,\n",
              " 0.08192423331328924,\n",
              " 0.07398677089597111,\n",
              " 0.07420324714371618,\n",
              " 0.07304870715574258,\n",
              " 0.06898376428141911,\n",
              " 0.061671677690920024,\n",
              " 0.06535177390258567,\n",
              " 0.06381238725195432,\n",
              " 0.06111846061334936,\n",
              " 0.059410703547805144,\n",
              " 0.05943475646422125,\n",
              " 0.06316295850871917,\n",
              " 0.05017438364401683,\n",
              " 0.06008418520745634,\n",
              " 0.04454600120264579,\n",
              " 0.04432952495490078,\n",
              " 0.04834636199639203,\n",
              " 0.05919422730006013,\n",
              " 0.06900781719783522,\n",
              " 0.06819001803968727,\n",
              " 0.062489476849067915,\n",
              " 0.06164762477450386,\n",
              " 0.0701142513529765,\n",
              " 0.0694407696933253,\n",
              " 0.06956103427540589,\n",
              " 0.07206253758268188,\n",
              " 0.06987372218881538,\n",
              " 0.0666025255562237,\n",
              " 0.06806975345760674,\n",
              " 0.0649428743235117,\n",
              " 0.056548406494287384,\n",
              " 0.05972339146121464,\n",
              " 0.06179194227300061]"
            ]
          },
          "metadata": {
            "tags": []
          },
          "execution_count": 40
        }
      ]
    },
    {
      "cell_type": "code",
      "metadata": {
        "colab": {
          "base_uri": "https://localhost:8080/"
        },
        "id": "_J7OdeY7rIXD",
        "outputId": "6571d8a5-b1d2-412b-a4bc-95cf11af1a71"
      },
      "source": [
        "# demonstrate prediction for next 10 days\n",
        "from numpy import array\n",
        "\n",
        "lst_output=[]\n",
        "n_steps=100\n",
        "i=0\n",
        "while(i<30):\n",
        "    \n",
        "    if(len(temp_input)>100):\n",
        "        #print(temp_input)\n",
        "        x_input=np.array(temp_input[1:])\n",
        "        print(\"{} day input {}\".format(i,x_input))\n",
        "        x_input=x_input.reshape(1,-1)\n",
        "        x_input = x_input.reshape((1, n_steps, 1))\n",
        "        #print(x_input)\n",
        "        yhat = model.predict(x_input, verbose=0)\n",
        "        print(\"{} day output {}\".format(i,yhat))\n",
        "        temp_input.extend(yhat[0].tolist())\n",
        "        temp_input=temp_input[1:]\n",
        "        #print(temp_input)\n",
        "        lst_output.extend(yhat.tolist())\n",
        "        i=i+1\n",
        "    else:\n",
        "        x_input = x_input.reshape((1, n_steps,1))\n",
        "        yhat = model.predict(x_input, verbose=0)\n",
        "        print(yhat[0])\n",
        "        temp_input.extend(yhat[0].tolist())\n",
        "        print(len(temp_input))\n",
        "        lst_output.extend(yhat.tolist())\n",
        "        i=i+1\n",
        "    \n",
        "\n",
        "print(lst_output)"
      ],
      "execution_count": null,
      "outputs": [
        {
          "output_type": "stream",
          "text": [
            "0 day input [0.89594708 0.92064943 0.97929044 0.99360192 0.98366807 1.\n",
            " 0.98544799 0.9834997  0.09308479 0.10544799 0.09876127 0.07345761\n",
            " 0.07365003 0.05407096 0.06489477 0.0556825  0.05209862 0.06016837\n",
            " 0.06061335 0.0524113  0.04810583 0.03968731 0.04748046 0.05164161\n",
            " 0.04036079 0.04300661 0.0527721  0.05921828 0.05712568 0.06126278\n",
            " 0.06361996 0.05455201 0.06292243 0.05488876 0.05950692 0.05924233\n",
            " 0.06405292 0.08192423 0.07398677 0.07420325 0.07304871 0.06898376\n",
            " 0.06167168 0.06535177 0.06381239 0.06111846 0.0594107  0.05943476\n",
            " 0.06316296 0.05017438 0.06008419 0.044546   0.04432952 0.04834636\n",
            " 0.05919423 0.06900782 0.06819002 0.06248948 0.06164762 0.07011425\n",
            " 0.06944077 0.06956103 0.07206254 0.06987372 0.06660253 0.06806975\n",
            " 0.06494287 0.05654841 0.05972339 0.06179194 0.06042776 0.05917728\n",
            " 0.05841667 0.0580195  0.05787265 0.05789631 0.05803823 0.05826374\n",
            " 0.05854774 0.05886969 0.05921129 0.05955701 0.05989352 0.060211\n",
            " 0.06050244 0.06076331 0.06099215 0.06118942 0.06135779 0.06150021\n",
            " 0.06162083 0.06172426 0.06181534 0.06189815 0.06197695 0.06205497\n",
            " 0.06213531 0.06222004 0.06231052 0.06240771]\n",
            "0 day output [[0.06251199]]\n",
            "1 day input [0.92064943 0.97929044 0.99360192 0.98366807 1.         0.98544799\n",
            " 0.9834997  0.09308479 0.10544799 0.09876127 0.07345761 0.07365003\n",
            " 0.05407096 0.06489477 0.0556825  0.05209862 0.06016837 0.06061335\n",
            " 0.0524113  0.04810583 0.03968731 0.04748046 0.05164161 0.04036079\n",
            " 0.04300661 0.0527721  0.05921828 0.05712568 0.06126278 0.06361996\n",
            " 0.05455201 0.06292243 0.05488876 0.05950692 0.05924233 0.06405292\n",
            " 0.08192423 0.07398677 0.07420325 0.07304871 0.06898376 0.06167168\n",
            " 0.06535177 0.06381239 0.06111846 0.0594107  0.05943476 0.06316296\n",
            " 0.05017438 0.06008419 0.044546   0.04432952 0.04834636 0.05919423\n",
            " 0.06900782 0.06819002 0.06248948 0.06164762 0.07011425 0.06944077\n",
            " 0.06956103 0.07206254 0.06987372 0.06660253 0.06806975 0.06494287\n",
            " 0.05654841 0.05972339 0.06179194 0.06042776 0.05917728 0.05841667\n",
            " 0.0580195  0.05787265 0.05789631 0.05803823 0.05826374 0.05854774\n",
            " 0.05886969 0.05921129 0.05955701 0.05989352 0.060211   0.06050244\n",
            " 0.06076331 0.06099215 0.06118942 0.06135779 0.06150021 0.06162083\n",
            " 0.06172426 0.06181534 0.06189815 0.06197695 0.06205497 0.06213531\n",
            " 0.06222004 0.06231052 0.06240771 0.06251199]\n",
            "1 day output [[0.06262327]]\n",
            "2 day input [0.97929044 0.99360192 0.98366807 1.         0.98544799 0.9834997\n",
            " 0.09308479 0.10544799 0.09876127 0.07345761 0.07365003 0.05407096\n",
            " 0.06489477 0.0556825  0.05209862 0.06016837 0.06061335 0.0524113\n",
            " 0.04810583 0.03968731 0.04748046 0.05164161 0.04036079 0.04300661\n",
            " 0.0527721  0.05921828 0.05712568 0.06126278 0.06361996 0.05455201\n",
            " 0.06292243 0.05488876 0.05950692 0.05924233 0.06405292 0.08192423\n",
            " 0.07398677 0.07420325 0.07304871 0.06898376 0.06167168 0.06535177\n",
            " 0.06381239 0.06111846 0.0594107  0.05943476 0.06316296 0.05017438\n",
            " 0.06008419 0.044546   0.04432952 0.04834636 0.05919423 0.06900782\n",
            " 0.06819002 0.06248948 0.06164762 0.07011425 0.06944077 0.06956103\n",
            " 0.07206254 0.06987372 0.06660253 0.06806975 0.06494287 0.05654841\n",
            " 0.05972339 0.06179194 0.06042776 0.05917728 0.05841667 0.0580195\n",
            " 0.05787265 0.05789631 0.05803823 0.05826374 0.05854774 0.05886969\n",
            " 0.05921129 0.05955701 0.05989352 0.060211   0.06050244 0.06076331\n",
            " 0.06099215 0.06118942 0.06135779 0.06150021 0.06162083 0.06172426\n",
            " 0.06181534 0.06189815 0.06197695 0.06205497 0.06213531 0.06222004\n",
            " 0.06231052 0.06240771 0.06251199 0.06262327]\n",
            "2 day output [[0.0627412]]\n",
            "3 day input [0.99360192 0.98366807 1.         0.98544799 0.9834997  0.09308479\n",
            " 0.10544799 0.09876127 0.07345761 0.07365003 0.05407096 0.06489477\n",
            " 0.0556825  0.05209862 0.06016837 0.06061335 0.0524113  0.04810583\n",
            " 0.03968731 0.04748046 0.05164161 0.04036079 0.04300661 0.0527721\n",
            " 0.05921828 0.05712568 0.06126278 0.06361996 0.05455201 0.06292243\n",
            " 0.05488876 0.05950692 0.05924233 0.06405292 0.08192423 0.07398677\n",
            " 0.07420325 0.07304871 0.06898376 0.06167168 0.06535177 0.06381239\n",
            " 0.06111846 0.0594107  0.05943476 0.06316296 0.05017438 0.06008419\n",
            " 0.044546   0.04432952 0.04834636 0.05919423 0.06900782 0.06819002\n",
            " 0.06248948 0.06164762 0.07011425 0.06944077 0.06956103 0.07206254\n",
            " 0.06987372 0.06660253 0.06806975 0.06494287 0.05654841 0.05972339\n",
            " 0.06179194 0.06042776 0.05917728 0.05841667 0.0580195  0.05787265\n",
            " 0.05789631 0.05803823 0.05826374 0.05854774 0.05886969 0.05921129\n",
            " 0.05955701 0.05989352 0.060211   0.06050244 0.06076331 0.06099215\n",
            " 0.06118942 0.06135779 0.06150021 0.06162083 0.06172426 0.06181534\n",
            " 0.06189815 0.06197695 0.06205497 0.06213531 0.06222004 0.06231052\n",
            " 0.06240771 0.06251199 0.06262327 0.0627412 ]\n",
            "3 day output [[0.06286515]]\n",
            "4 day input [0.98366807 1.         0.98544799 0.9834997  0.09308479 0.10544799\n",
            " 0.09876127 0.07345761 0.07365003 0.05407096 0.06489477 0.0556825\n",
            " 0.05209862 0.06016837 0.06061335 0.0524113  0.04810583 0.03968731\n",
            " 0.04748046 0.05164161 0.04036079 0.04300661 0.0527721  0.05921828\n",
            " 0.05712568 0.06126278 0.06361996 0.05455201 0.06292243 0.05488876\n",
            " 0.05950692 0.05924233 0.06405292 0.08192423 0.07398677 0.07420325\n",
            " 0.07304871 0.06898376 0.06167168 0.06535177 0.06381239 0.06111846\n",
            " 0.0594107  0.05943476 0.06316296 0.05017438 0.06008419 0.044546\n",
            " 0.04432952 0.04834636 0.05919423 0.06900782 0.06819002 0.06248948\n",
            " 0.06164762 0.07011425 0.06944077 0.06956103 0.07206254 0.06987372\n",
            " 0.06660253 0.06806975 0.06494287 0.05654841 0.05972339 0.06179194\n",
            " 0.06042776 0.05917728 0.05841667 0.0580195  0.05787265 0.05789631\n",
            " 0.05803823 0.05826374 0.05854774 0.05886969 0.05921129 0.05955701\n",
            " 0.05989352 0.060211   0.06050244 0.06076331 0.06099215 0.06118942\n",
            " 0.06135779 0.06150021 0.06162083 0.06172426 0.06181534 0.06189815\n",
            " 0.06197695 0.06205497 0.06213531 0.06222004 0.06231052 0.06240771\n",
            " 0.06251199 0.06262327 0.0627412  0.06286515]\n",
            "4 day output [[0.06299419]]\n",
            "5 day input [1.         0.98544799 0.9834997  0.09308479 0.10544799 0.09876127\n",
            " 0.07345761 0.07365003 0.05407096 0.06489477 0.0556825  0.05209862\n",
            " 0.06016837 0.06061335 0.0524113  0.04810583 0.03968731 0.04748046\n",
            " 0.05164161 0.04036079 0.04300661 0.0527721  0.05921828 0.05712568\n",
            " 0.06126278 0.06361996 0.05455201 0.06292243 0.05488876 0.05950692\n",
            " 0.05924233 0.06405292 0.08192423 0.07398677 0.07420325 0.07304871\n",
            " 0.06898376 0.06167168 0.06535177 0.06381239 0.06111846 0.0594107\n",
            " 0.05943476 0.06316296 0.05017438 0.06008419 0.044546   0.04432952\n",
            " 0.04834636 0.05919423 0.06900782 0.06819002 0.06248948 0.06164762\n",
            " 0.07011425 0.06944077 0.06956103 0.07206254 0.06987372 0.06660253\n",
            " 0.06806975 0.06494287 0.05654841 0.05972339 0.06179194 0.06042776\n",
            " 0.05917728 0.05841667 0.0580195  0.05787265 0.05789631 0.05803823\n",
            " 0.05826374 0.05854774 0.05886969 0.05921129 0.05955701 0.05989352\n",
            " 0.060211   0.06050244 0.06076331 0.06099215 0.06118942 0.06135779\n",
            " 0.06150021 0.06162083 0.06172426 0.06181534 0.06189815 0.06197695\n",
            " 0.06205497 0.06213531 0.06222004 0.06231052 0.06240771 0.06251199\n",
            " 0.06262327 0.0627412  0.06286515 0.06299419]\n",
            "5 day output [[0.06312746]]\n",
            "6 day input [0.98544799 0.9834997  0.09308479 0.10544799 0.09876127 0.07345761\n",
            " 0.07365003 0.05407096 0.06489477 0.0556825  0.05209862 0.06016837\n",
            " 0.06061335 0.0524113  0.04810583 0.03968731 0.04748046 0.05164161\n",
            " 0.04036079 0.04300661 0.0527721  0.05921828 0.05712568 0.06126278\n",
            " 0.06361996 0.05455201 0.06292243 0.05488876 0.05950692 0.05924233\n",
            " 0.06405292 0.08192423 0.07398677 0.07420325 0.07304871 0.06898376\n",
            " 0.06167168 0.06535177 0.06381239 0.06111846 0.0594107  0.05943476\n",
            " 0.06316296 0.05017438 0.06008419 0.044546   0.04432952 0.04834636\n",
            " 0.05919423 0.06900782 0.06819002 0.06248948 0.06164762 0.07011425\n",
            " 0.06944077 0.06956103 0.07206254 0.06987372 0.06660253 0.06806975\n",
            " 0.06494287 0.05654841 0.05972339 0.06179194 0.06042776 0.05917728\n",
            " 0.05841667 0.0580195  0.05787265 0.05789631 0.05803823 0.05826374\n",
            " 0.05854774 0.05886969 0.05921129 0.05955701 0.05989352 0.060211\n",
            " 0.06050244 0.06076331 0.06099215 0.06118942 0.06135779 0.06150021\n",
            " 0.06162083 0.06172426 0.06181534 0.06189815 0.06197695 0.06205497\n",
            " 0.06213531 0.06222004 0.06231052 0.06240771 0.06251199 0.06262327\n",
            " 0.0627412  0.06286515 0.06299419 0.06312746]\n",
            "6 day output [[0.06326407]]\n",
            "7 day input [0.9834997  0.09308479 0.10544799 0.09876127 0.07345761 0.07365003\n",
            " 0.05407096 0.06489477 0.0556825  0.05209862 0.06016837 0.06061335\n",
            " 0.0524113  0.04810583 0.03968731 0.04748046 0.05164161 0.04036079\n",
            " 0.04300661 0.0527721  0.05921828 0.05712568 0.06126278 0.06361996\n",
            " 0.05455201 0.06292243 0.05488876 0.05950692 0.05924233 0.06405292\n",
            " 0.08192423 0.07398677 0.07420325 0.07304871 0.06898376 0.06167168\n",
            " 0.06535177 0.06381239 0.06111846 0.0594107  0.05943476 0.06316296\n",
            " 0.05017438 0.06008419 0.044546   0.04432952 0.04834636 0.05919423\n",
            " 0.06900782 0.06819002 0.06248948 0.06164762 0.07011425 0.06944077\n",
            " 0.06956103 0.07206254 0.06987372 0.06660253 0.06806975 0.06494287\n",
            " 0.05654841 0.05972339 0.06179194 0.06042776 0.05917728 0.05841667\n",
            " 0.0580195  0.05787265 0.05789631 0.05803823 0.05826374 0.05854774\n",
            " 0.05886969 0.05921129 0.05955701 0.05989352 0.060211   0.06050244\n",
            " 0.06076331 0.06099215 0.06118942 0.06135779 0.06150021 0.06162083\n",
            " 0.06172426 0.06181534 0.06189815 0.06197695 0.06205497 0.06213531\n",
            " 0.06222004 0.06231052 0.06240771 0.06251199 0.06262327 0.0627412\n",
            " 0.06286515 0.06299419 0.06312746 0.06326407]\n",
            "7 day output [[0.06340314]]\n",
            "8 day input [0.09308479 0.10544799 0.09876127 0.07345761 0.07365003 0.05407096\n",
            " 0.06489477 0.0556825  0.05209862 0.06016837 0.06061335 0.0524113\n",
            " 0.04810583 0.03968731 0.04748046 0.05164161 0.04036079 0.04300661\n",
            " 0.0527721  0.05921828 0.05712568 0.06126278 0.06361996 0.05455201\n",
            " 0.06292243 0.05488876 0.05950692 0.05924233 0.06405292 0.08192423\n",
            " 0.07398677 0.07420325 0.07304871 0.06898376 0.06167168 0.06535177\n",
            " 0.06381239 0.06111846 0.0594107  0.05943476 0.06316296 0.05017438\n",
            " 0.06008419 0.044546   0.04432952 0.04834636 0.05919423 0.06900782\n",
            " 0.06819002 0.06248948 0.06164762 0.07011425 0.06944077 0.06956103\n",
            " 0.07206254 0.06987372 0.06660253 0.06806975 0.06494287 0.05654841\n",
            " 0.05972339 0.06179194 0.06042776 0.05917728 0.05841667 0.0580195\n",
            " 0.05787265 0.05789631 0.05803823 0.05826374 0.05854774 0.05886969\n",
            " 0.05921129 0.05955701 0.05989352 0.060211   0.06050244 0.06076331\n",
            " 0.06099215 0.06118942 0.06135779 0.06150021 0.06162083 0.06172426\n",
            " 0.06181534 0.06189815 0.06197695 0.06205497 0.06213531 0.06222004\n",
            " 0.06231052 0.06240771 0.06251199 0.06262327 0.0627412  0.06286515\n",
            " 0.06299419 0.06312746 0.06326407 0.06340314]\n",
            "8 day output [[0.0635439]]\n",
            "9 day input [0.10544799 0.09876127 0.07345761 0.07365003 0.05407096 0.06489477\n",
            " 0.0556825  0.05209862 0.06016837 0.06061335 0.0524113  0.04810583\n",
            " 0.03968731 0.04748046 0.05164161 0.04036079 0.04300661 0.0527721\n",
            " 0.05921828 0.05712568 0.06126278 0.06361996 0.05455201 0.06292243\n",
            " 0.05488876 0.05950692 0.05924233 0.06405292 0.08192423 0.07398677\n",
            " 0.07420325 0.07304871 0.06898376 0.06167168 0.06535177 0.06381239\n",
            " 0.06111846 0.0594107  0.05943476 0.06316296 0.05017438 0.06008419\n",
            " 0.044546   0.04432952 0.04834636 0.05919423 0.06900782 0.06819002\n",
            " 0.06248948 0.06164762 0.07011425 0.06944077 0.06956103 0.07206254\n",
            " 0.06987372 0.06660253 0.06806975 0.06494287 0.05654841 0.05972339\n",
            " 0.06179194 0.06042776 0.05917728 0.05841667 0.0580195  0.05787265\n",
            " 0.05789631 0.05803823 0.05826374 0.05854774 0.05886969 0.05921129\n",
            " 0.05955701 0.05989352 0.060211   0.06050244 0.06076331 0.06099215\n",
            " 0.06118942 0.06135779 0.06150021 0.06162083 0.06172426 0.06181534\n",
            " 0.06189815 0.06197695 0.06205497 0.06213531 0.06222004 0.06231052\n",
            " 0.06240771 0.06251199 0.06262327 0.0627412  0.06286515 0.06299419\n",
            " 0.06312746 0.06326407 0.06340314 0.0635439 ]\n",
            "9 day output [[0.06368577]]\n",
            "10 day input [0.09876127 0.07345761 0.07365003 0.05407096 0.06489477 0.0556825\n",
            " 0.05209862 0.06016837 0.06061335 0.0524113  0.04810583 0.03968731\n",
            " 0.04748046 0.05164161 0.04036079 0.04300661 0.0527721  0.05921828\n",
            " 0.05712568 0.06126278 0.06361996 0.05455201 0.06292243 0.05488876\n",
            " 0.05950692 0.05924233 0.06405292 0.08192423 0.07398677 0.07420325\n",
            " 0.07304871 0.06898376 0.06167168 0.06535177 0.06381239 0.06111846\n",
            " 0.0594107  0.05943476 0.06316296 0.05017438 0.06008419 0.044546\n",
            " 0.04432952 0.04834636 0.05919423 0.06900782 0.06819002 0.06248948\n",
            " 0.06164762 0.07011425 0.06944077 0.06956103 0.07206254 0.06987372\n",
            " 0.06660253 0.06806975 0.06494287 0.05654841 0.05972339 0.06179194\n",
            " 0.06042776 0.05917728 0.05841667 0.0580195  0.05787265 0.05789631\n",
            " 0.05803823 0.05826374 0.05854774 0.05886969 0.05921129 0.05955701\n",
            " 0.05989352 0.060211   0.06050244 0.06076331 0.06099215 0.06118942\n",
            " 0.06135779 0.06150021 0.06162083 0.06172426 0.06181534 0.06189815\n",
            " 0.06197695 0.06205497 0.06213531 0.06222004 0.06231052 0.06240771\n",
            " 0.06251199 0.06262327 0.0627412  0.06286515 0.06299419 0.06312746\n",
            " 0.06326407 0.06340314 0.0635439  0.06368577]\n",
            "10 day output [[0.06382814]]\n",
            "11 day input [0.07345761 0.07365003 0.05407096 0.06489477 0.0556825  0.05209862\n",
            " 0.06016837 0.06061335 0.0524113  0.04810583 0.03968731 0.04748046\n",
            " 0.05164161 0.04036079 0.04300661 0.0527721  0.05921828 0.05712568\n",
            " 0.06126278 0.06361996 0.05455201 0.06292243 0.05488876 0.05950692\n",
            " 0.05924233 0.06405292 0.08192423 0.07398677 0.07420325 0.07304871\n",
            " 0.06898376 0.06167168 0.06535177 0.06381239 0.06111846 0.0594107\n",
            " 0.05943476 0.06316296 0.05017438 0.06008419 0.044546   0.04432952\n",
            " 0.04834636 0.05919423 0.06900782 0.06819002 0.06248948 0.06164762\n",
            " 0.07011425 0.06944077 0.06956103 0.07206254 0.06987372 0.06660253\n",
            " 0.06806975 0.06494287 0.05654841 0.05972339 0.06179194 0.06042776\n",
            " 0.05917728 0.05841667 0.0580195  0.05787265 0.05789631 0.05803823\n",
            " 0.05826374 0.05854774 0.05886969 0.05921129 0.05955701 0.05989352\n",
            " 0.060211   0.06050244 0.06076331 0.06099215 0.06118942 0.06135779\n",
            " 0.06150021 0.06162083 0.06172426 0.06181534 0.06189815 0.06197695\n",
            " 0.06205497 0.06213531 0.06222004 0.06231052 0.06240771 0.06251199\n",
            " 0.06262327 0.0627412  0.06286515 0.06299419 0.06312746 0.06326407\n",
            " 0.06340314 0.0635439  0.06368577 0.06382814]\n",
            "11 day output [[0.06397054]]\n",
            "12 day input [0.07365003 0.05407096 0.06489477 0.0556825  0.05209862 0.06016837\n",
            " 0.06061335 0.0524113  0.04810583 0.03968731 0.04748046 0.05164161\n",
            " 0.04036079 0.04300661 0.0527721  0.05921828 0.05712568 0.06126278\n",
            " 0.06361996 0.05455201 0.06292243 0.05488876 0.05950692 0.05924233\n",
            " 0.06405292 0.08192423 0.07398677 0.07420325 0.07304871 0.06898376\n",
            " 0.06167168 0.06535177 0.06381239 0.06111846 0.0594107  0.05943476\n",
            " 0.06316296 0.05017438 0.06008419 0.044546   0.04432952 0.04834636\n",
            " 0.05919423 0.06900782 0.06819002 0.06248948 0.06164762 0.07011425\n",
            " 0.06944077 0.06956103 0.07206254 0.06987372 0.06660253 0.06806975\n",
            " 0.06494287 0.05654841 0.05972339 0.06179194 0.06042776 0.05917728\n",
            " 0.05841667 0.0580195  0.05787265 0.05789631 0.05803823 0.05826374\n",
            " 0.05854774 0.05886969 0.05921129 0.05955701 0.05989352 0.060211\n",
            " 0.06050244 0.06076331 0.06099215 0.06118942 0.06135779 0.06150021\n",
            " 0.06162083 0.06172426 0.06181534 0.06189815 0.06197695 0.06205497\n",
            " 0.06213531 0.06222004 0.06231052 0.06240771 0.06251199 0.06262327\n",
            " 0.0627412  0.06286515 0.06299419 0.06312746 0.06326407 0.06340314\n",
            " 0.0635439  0.06368577 0.06382814 0.06397054]\n",
            "12 day output [[0.06411269]]\n",
            "13 day input [0.05407096 0.06489477 0.0556825  0.05209862 0.06016837 0.06061335\n",
            " 0.0524113  0.04810583 0.03968731 0.04748046 0.05164161 0.04036079\n",
            " 0.04300661 0.0527721  0.05921828 0.05712568 0.06126278 0.06361996\n",
            " 0.05455201 0.06292243 0.05488876 0.05950692 0.05924233 0.06405292\n",
            " 0.08192423 0.07398677 0.07420325 0.07304871 0.06898376 0.06167168\n",
            " 0.06535177 0.06381239 0.06111846 0.0594107  0.05943476 0.06316296\n",
            " 0.05017438 0.06008419 0.044546   0.04432952 0.04834636 0.05919423\n",
            " 0.06900782 0.06819002 0.06248948 0.06164762 0.07011425 0.06944077\n",
            " 0.06956103 0.07206254 0.06987372 0.06660253 0.06806975 0.06494287\n",
            " 0.05654841 0.05972339 0.06179194 0.06042776 0.05917728 0.05841667\n",
            " 0.0580195  0.05787265 0.05789631 0.05803823 0.05826374 0.05854774\n",
            " 0.05886969 0.05921129 0.05955701 0.05989352 0.060211   0.06050244\n",
            " 0.06076331 0.06099215 0.06118942 0.06135779 0.06150021 0.06162083\n",
            " 0.06172426 0.06181534 0.06189815 0.06197695 0.06205497 0.06213531\n",
            " 0.06222004 0.06231052 0.06240771 0.06251199 0.06262327 0.0627412\n",
            " 0.06286515 0.06299419 0.06312746 0.06326407 0.06340314 0.0635439\n",
            " 0.06368577 0.06382814 0.06397054 0.06411269]\n",
            "13 day output [[0.06425436]]\n",
            "14 day input [0.06489477 0.0556825  0.05209862 0.06016837 0.06061335 0.0524113\n",
            " 0.04810583 0.03968731 0.04748046 0.05164161 0.04036079 0.04300661\n",
            " 0.0527721  0.05921828 0.05712568 0.06126278 0.06361996 0.05455201\n",
            " 0.06292243 0.05488876 0.05950692 0.05924233 0.06405292 0.08192423\n",
            " 0.07398677 0.07420325 0.07304871 0.06898376 0.06167168 0.06535177\n",
            " 0.06381239 0.06111846 0.0594107  0.05943476 0.06316296 0.05017438\n",
            " 0.06008419 0.044546   0.04432952 0.04834636 0.05919423 0.06900782\n",
            " 0.06819002 0.06248948 0.06164762 0.07011425 0.06944077 0.06956103\n",
            " 0.07206254 0.06987372 0.06660253 0.06806975 0.06494287 0.05654841\n",
            " 0.05972339 0.06179194 0.06042776 0.05917728 0.05841667 0.0580195\n",
            " 0.05787265 0.05789631 0.05803823 0.05826374 0.05854774 0.05886969\n",
            " 0.05921129 0.05955701 0.05989352 0.060211   0.06050244 0.06076331\n",
            " 0.06099215 0.06118942 0.06135779 0.06150021 0.06162083 0.06172426\n",
            " 0.06181534 0.06189815 0.06197695 0.06205497 0.06213531 0.06222004\n",
            " 0.06231052 0.06240771 0.06251199 0.06262327 0.0627412  0.06286515\n",
            " 0.06299419 0.06312746 0.06326407 0.06340314 0.0635439  0.06368577\n",
            " 0.06382814 0.06397054 0.06411269 0.06425436]\n",
            "14 day output [[0.0643955]]\n",
            "15 day input [0.0556825  0.05209862 0.06016837 0.06061335 0.0524113  0.04810583\n",
            " 0.03968731 0.04748046 0.05164161 0.04036079 0.04300661 0.0527721\n",
            " 0.05921828 0.05712568 0.06126278 0.06361996 0.05455201 0.06292243\n",
            " 0.05488876 0.05950692 0.05924233 0.06405292 0.08192423 0.07398677\n",
            " 0.07420325 0.07304871 0.06898376 0.06167168 0.06535177 0.06381239\n",
            " 0.06111846 0.0594107  0.05943476 0.06316296 0.05017438 0.06008419\n",
            " 0.044546   0.04432952 0.04834636 0.05919423 0.06900782 0.06819002\n",
            " 0.06248948 0.06164762 0.07011425 0.06944077 0.06956103 0.07206254\n",
            " 0.06987372 0.06660253 0.06806975 0.06494287 0.05654841 0.05972339\n",
            " 0.06179194 0.06042776 0.05917728 0.05841667 0.0580195  0.05787265\n",
            " 0.05789631 0.05803823 0.05826374 0.05854774 0.05886969 0.05921129\n",
            " 0.05955701 0.05989352 0.060211   0.06050244 0.06076331 0.06099215\n",
            " 0.06118942 0.06135779 0.06150021 0.06162083 0.06172426 0.06181534\n",
            " 0.06189815 0.06197695 0.06205497 0.06213531 0.06222004 0.06231052\n",
            " 0.06240771 0.06251199 0.06262327 0.0627412  0.06286515 0.06299419\n",
            " 0.06312746 0.06326407 0.06340314 0.0635439  0.06368577 0.06382814\n",
            " 0.06397054 0.06411269 0.06425436 0.0643955 ]\n",
            "15 day output [[0.06453609]]\n",
            "16 day input [0.05209862 0.06016837 0.06061335 0.0524113  0.04810583 0.03968731\n",
            " 0.04748046 0.05164161 0.04036079 0.04300661 0.0527721  0.05921828\n",
            " 0.05712568 0.06126278 0.06361996 0.05455201 0.06292243 0.05488876\n",
            " 0.05950692 0.05924233 0.06405292 0.08192423 0.07398677 0.07420325\n",
            " 0.07304871 0.06898376 0.06167168 0.06535177 0.06381239 0.06111846\n",
            " 0.0594107  0.05943476 0.06316296 0.05017438 0.06008419 0.044546\n",
            " 0.04432952 0.04834636 0.05919423 0.06900782 0.06819002 0.06248948\n",
            " 0.06164762 0.07011425 0.06944077 0.06956103 0.07206254 0.06987372\n",
            " 0.06660253 0.06806975 0.06494287 0.05654841 0.05972339 0.06179194\n",
            " 0.06042776 0.05917728 0.05841667 0.0580195  0.05787265 0.05789631\n",
            " 0.05803823 0.05826374 0.05854774 0.05886969 0.05921129 0.05955701\n",
            " 0.05989352 0.060211   0.06050244 0.06076331 0.06099215 0.06118942\n",
            " 0.06135779 0.06150021 0.06162083 0.06172426 0.06181534 0.06189815\n",
            " 0.06197695 0.06205497 0.06213531 0.06222004 0.06231052 0.06240771\n",
            " 0.06251199 0.06262327 0.0627412  0.06286515 0.06299419 0.06312746\n",
            " 0.06326407 0.06340314 0.0635439  0.06368577 0.06382814 0.06397054\n",
            " 0.06411269 0.06425436 0.0643955  0.06453609]\n",
            "16 day output [[0.06467621]]\n",
            "17 day input [0.06016837 0.06061335 0.0524113  0.04810583 0.03968731 0.04748046\n",
            " 0.05164161 0.04036079 0.04300661 0.0527721  0.05921828 0.05712568\n",
            " 0.06126278 0.06361996 0.05455201 0.06292243 0.05488876 0.05950692\n",
            " 0.05924233 0.06405292 0.08192423 0.07398677 0.07420325 0.07304871\n",
            " 0.06898376 0.06167168 0.06535177 0.06381239 0.06111846 0.0594107\n",
            " 0.05943476 0.06316296 0.05017438 0.06008419 0.044546   0.04432952\n",
            " 0.04834636 0.05919423 0.06900782 0.06819002 0.06248948 0.06164762\n",
            " 0.07011425 0.06944077 0.06956103 0.07206254 0.06987372 0.06660253\n",
            " 0.06806975 0.06494287 0.05654841 0.05972339 0.06179194 0.06042776\n",
            " 0.05917728 0.05841667 0.0580195  0.05787265 0.05789631 0.05803823\n",
            " 0.05826374 0.05854774 0.05886969 0.05921129 0.05955701 0.05989352\n",
            " 0.060211   0.06050244 0.06076331 0.06099215 0.06118942 0.06135779\n",
            " 0.06150021 0.06162083 0.06172426 0.06181534 0.06189815 0.06197695\n",
            " 0.06205497 0.06213531 0.06222004 0.06231052 0.06240771 0.06251199\n",
            " 0.06262327 0.0627412  0.06286515 0.06299419 0.06312746 0.06326407\n",
            " 0.06340314 0.0635439  0.06368577 0.06382814 0.06397054 0.06411269\n",
            " 0.06425436 0.0643955  0.06453609 0.06467621]\n",
            "17 day output [[0.06481598]]\n",
            "18 day input [0.06061335 0.0524113  0.04810583 0.03968731 0.04748046 0.05164161\n",
            " 0.04036079 0.04300661 0.0527721  0.05921828 0.05712568 0.06126278\n",
            " 0.06361996 0.05455201 0.06292243 0.05488876 0.05950692 0.05924233\n",
            " 0.06405292 0.08192423 0.07398677 0.07420325 0.07304871 0.06898376\n",
            " 0.06167168 0.06535177 0.06381239 0.06111846 0.0594107  0.05943476\n",
            " 0.06316296 0.05017438 0.06008419 0.044546   0.04432952 0.04834636\n",
            " 0.05919423 0.06900782 0.06819002 0.06248948 0.06164762 0.07011425\n",
            " 0.06944077 0.06956103 0.07206254 0.06987372 0.06660253 0.06806975\n",
            " 0.06494287 0.05654841 0.05972339 0.06179194 0.06042776 0.05917728\n",
            " 0.05841667 0.0580195  0.05787265 0.05789631 0.05803823 0.05826374\n",
            " 0.05854774 0.05886969 0.05921129 0.05955701 0.05989352 0.060211\n",
            " 0.06050244 0.06076331 0.06099215 0.06118942 0.06135779 0.06150021\n",
            " 0.06162083 0.06172426 0.06181534 0.06189815 0.06197695 0.06205497\n",
            " 0.06213531 0.06222004 0.06231052 0.06240771 0.06251199 0.06262327\n",
            " 0.0627412  0.06286515 0.06299419 0.06312746 0.06326407 0.06340314\n",
            " 0.0635439  0.06368577 0.06382814 0.06397054 0.06411269 0.06425436\n",
            " 0.0643955  0.06453609 0.06467621 0.06481598]\n",
            "18 day output [[0.06495558]]\n",
            "19 day input [0.0524113  0.04810583 0.03968731 0.04748046 0.05164161 0.04036079\n",
            " 0.04300661 0.0527721  0.05921828 0.05712568 0.06126278 0.06361996\n",
            " 0.05455201 0.06292243 0.05488876 0.05950692 0.05924233 0.06405292\n",
            " 0.08192423 0.07398677 0.07420325 0.07304871 0.06898376 0.06167168\n",
            " 0.06535177 0.06381239 0.06111846 0.0594107  0.05943476 0.06316296\n",
            " 0.05017438 0.06008419 0.044546   0.04432952 0.04834636 0.05919423\n",
            " 0.06900782 0.06819002 0.06248948 0.06164762 0.07011425 0.06944077\n",
            " 0.06956103 0.07206254 0.06987372 0.06660253 0.06806975 0.06494287\n",
            " 0.05654841 0.05972339 0.06179194 0.06042776 0.05917728 0.05841667\n",
            " 0.0580195  0.05787265 0.05789631 0.05803823 0.05826374 0.05854774\n",
            " 0.05886969 0.05921129 0.05955701 0.05989352 0.060211   0.06050244\n",
            " 0.06076331 0.06099215 0.06118942 0.06135779 0.06150021 0.06162083\n",
            " 0.06172426 0.06181534 0.06189815 0.06197695 0.06205497 0.06213531\n",
            " 0.06222004 0.06231052 0.06240771 0.06251199 0.06262327 0.0627412\n",
            " 0.06286515 0.06299419 0.06312746 0.06326407 0.06340314 0.0635439\n",
            " 0.06368577 0.06382814 0.06397054 0.06411269 0.06425436 0.0643955\n",
            " 0.06453609 0.06467621 0.06481598 0.06495558]\n",
            "19 day output [[0.06509519]]\n",
            "20 day input [0.04810583 0.03968731 0.04748046 0.05164161 0.04036079 0.04300661\n",
            " 0.0527721  0.05921828 0.05712568 0.06126278 0.06361996 0.05455201\n",
            " 0.06292243 0.05488876 0.05950692 0.05924233 0.06405292 0.08192423\n",
            " 0.07398677 0.07420325 0.07304871 0.06898376 0.06167168 0.06535177\n",
            " 0.06381239 0.06111846 0.0594107  0.05943476 0.06316296 0.05017438\n",
            " 0.06008419 0.044546   0.04432952 0.04834636 0.05919423 0.06900782\n",
            " 0.06819002 0.06248948 0.06164762 0.07011425 0.06944077 0.06956103\n",
            " 0.07206254 0.06987372 0.06660253 0.06806975 0.06494287 0.05654841\n",
            " 0.05972339 0.06179194 0.06042776 0.05917728 0.05841667 0.0580195\n",
            " 0.05787265 0.05789631 0.05803823 0.05826374 0.05854774 0.05886969\n",
            " 0.05921129 0.05955701 0.05989352 0.060211   0.06050244 0.06076331\n",
            " 0.06099215 0.06118942 0.06135779 0.06150021 0.06162083 0.06172426\n",
            " 0.06181534 0.06189815 0.06197695 0.06205497 0.06213531 0.06222004\n",
            " 0.06231052 0.06240771 0.06251199 0.06262327 0.0627412  0.06286515\n",
            " 0.06299419 0.06312746 0.06326407 0.06340314 0.0635439  0.06368577\n",
            " 0.06382814 0.06397054 0.06411269 0.06425436 0.0643955  0.06453609\n",
            " 0.06467621 0.06481598 0.06495558 0.06509519]\n",
            "20 day output [[0.06523497]]\n",
            "21 day input [0.03968731 0.04748046 0.05164161 0.04036079 0.04300661 0.0527721\n",
            " 0.05921828 0.05712568 0.06126278 0.06361996 0.05455201 0.06292243\n",
            " 0.05488876 0.05950692 0.05924233 0.06405292 0.08192423 0.07398677\n",
            " 0.07420325 0.07304871 0.06898376 0.06167168 0.06535177 0.06381239\n",
            " 0.06111846 0.0594107  0.05943476 0.06316296 0.05017438 0.06008419\n",
            " 0.044546   0.04432952 0.04834636 0.05919423 0.06900782 0.06819002\n",
            " 0.06248948 0.06164762 0.07011425 0.06944077 0.06956103 0.07206254\n",
            " 0.06987372 0.06660253 0.06806975 0.06494287 0.05654841 0.05972339\n",
            " 0.06179194 0.06042776 0.05917728 0.05841667 0.0580195  0.05787265\n",
            " 0.05789631 0.05803823 0.05826374 0.05854774 0.05886969 0.05921129\n",
            " 0.05955701 0.05989352 0.060211   0.06050244 0.06076331 0.06099215\n",
            " 0.06118942 0.06135779 0.06150021 0.06162083 0.06172426 0.06181534\n",
            " 0.06189815 0.06197695 0.06205497 0.06213531 0.06222004 0.06231052\n",
            " 0.06240771 0.06251199 0.06262327 0.0627412  0.06286515 0.06299419\n",
            " 0.06312746 0.06326407 0.06340314 0.0635439  0.06368577 0.06382814\n",
            " 0.06397054 0.06411269 0.06425436 0.0643955  0.06453609 0.06467621\n",
            " 0.06481598 0.06495558 0.06509519 0.06523497]\n",
            "21 day output [[0.06537512]]\n",
            "22 day input [0.04748046 0.05164161 0.04036079 0.04300661 0.0527721  0.05921828\n",
            " 0.05712568 0.06126278 0.06361996 0.05455201 0.06292243 0.05488876\n",
            " 0.05950692 0.05924233 0.06405292 0.08192423 0.07398677 0.07420325\n",
            " 0.07304871 0.06898376 0.06167168 0.06535177 0.06381239 0.06111846\n",
            " 0.0594107  0.05943476 0.06316296 0.05017438 0.06008419 0.044546\n",
            " 0.04432952 0.04834636 0.05919423 0.06900782 0.06819002 0.06248948\n",
            " 0.06164762 0.07011425 0.06944077 0.06956103 0.07206254 0.06987372\n",
            " 0.06660253 0.06806975 0.06494287 0.05654841 0.05972339 0.06179194\n",
            " 0.06042776 0.05917728 0.05841667 0.0580195  0.05787265 0.05789631\n",
            " 0.05803823 0.05826374 0.05854774 0.05886969 0.05921129 0.05955701\n",
            " 0.05989352 0.060211   0.06050244 0.06076331 0.06099215 0.06118942\n",
            " 0.06135779 0.06150021 0.06162083 0.06172426 0.06181534 0.06189815\n",
            " 0.06197695 0.06205497 0.06213531 0.06222004 0.06231052 0.06240771\n",
            " 0.06251199 0.06262327 0.0627412  0.06286515 0.06299419 0.06312746\n",
            " 0.06326407 0.06340314 0.0635439  0.06368577 0.06382814 0.06397054\n",
            " 0.06411269 0.06425436 0.0643955  0.06453609 0.06467621 0.06481598\n",
            " 0.06495558 0.06509519 0.06523497 0.06537512]\n",
            "22 day output [[0.06551584]]\n",
            "23 day input [0.05164161 0.04036079 0.04300661 0.0527721  0.05921828 0.05712568\n",
            " 0.06126278 0.06361996 0.05455201 0.06292243 0.05488876 0.05950692\n",
            " 0.05924233 0.06405292 0.08192423 0.07398677 0.07420325 0.07304871\n",
            " 0.06898376 0.06167168 0.06535177 0.06381239 0.06111846 0.0594107\n",
            " 0.05943476 0.06316296 0.05017438 0.06008419 0.044546   0.04432952\n",
            " 0.04834636 0.05919423 0.06900782 0.06819002 0.06248948 0.06164762\n",
            " 0.07011425 0.06944077 0.06956103 0.07206254 0.06987372 0.06660253\n",
            " 0.06806975 0.06494287 0.05654841 0.05972339 0.06179194 0.06042776\n",
            " 0.05917728 0.05841667 0.0580195  0.05787265 0.05789631 0.05803823\n",
            " 0.05826374 0.05854774 0.05886969 0.05921129 0.05955701 0.05989352\n",
            " 0.060211   0.06050244 0.06076331 0.06099215 0.06118942 0.06135779\n",
            " 0.06150021 0.06162083 0.06172426 0.06181534 0.06189815 0.06197695\n",
            " 0.06205497 0.06213531 0.06222004 0.06231052 0.06240771 0.06251199\n",
            " 0.06262327 0.0627412  0.06286515 0.06299419 0.06312746 0.06326407\n",
            " 0.06340314 0.0635439  0.06368577 0.06382814 0.06397054 0.06411269\n",
            " 0.06425436 0.0643955  0.06453609 0.06467621 0.06481598 0.06495558\n",
            " 0.06509519 0.06523497 0.06537512 0.06551584]\n",
            "23 day output [[0.06565723]]\n",
            "24 day input [0.04036079 0.04300661 0.0527721  0.05921828 0.05712568 0.06126278\n",
            " 0.06361996 0.05455201 0.06292243 0.05488876 0.05950692 0.05924233\n",
            " 0.06405292 0.08192423 0.07398677 0.07420325 0.07304871 0.06898376\n",
            " 0.06167168 0.06535177 0.06381239 0.06111846 0.0594107  0.05943476\n",
            " 0.06316296 0.05017438 0.06008419 0.044546   0.04432952 0.04834636\n",
            " 0.05919423 0.06900782 0.06819002 0.06248948 0.06164762 0.07011425\n",
            " 0.06944077 0.06956103 0.07206254 0.06987372 0.06660253 0.06806975\n",
            " 0.06494287 0.05654841 0.05972339 0.06179194 0.06042776 0.05917728\n",
            " 0.05841667 0.0580195  0.05787265 0.05789631 0.05803823 0.05826374\n",
            " 0.05854774 0.05886969 0.05921129 0.05955701 0.05989352 0.060211\n",
            " 0.06050244 0.06076331 0.06099215 0.06118942 0.06135779 0.06150021\n",
            " 0.06162083 0.06172426 0.06181534 0.06189815 0.06197695 0.06205497\n",
            " 0.06213531 0.06222004 0.06231052 0.06240771 0.06251199 0.06262327\n",
            " 0.0627412  0.06286515 0.06299419 0.06312746 0.06326407 0.06340314\n",
            " 0.0635439  0.06368577 0.06382814 0.06397054 0.06411269 0.06425436\n",
            " 0.0643955  0.06453609 0.06467621 0.06481598 0.06495558 0.06509519\n",
            " 0.06523497 0.06537512 0.06551584 0.06565723]\n",
            "24 day output [[0.06579946]]\n",
            "25 day input [0.04300661 0.0527721  0.05921828 0.05712568 0.06126278 0.06361996\n",
            " 0.05455201 0.06292243 0.05488876 0.05950692 0.05924233 0.06405292\n",
            " 0.08192423 0.07398677 0.07420325 0.07304871 0.06898376 0.06167168\n",
            " 0.06535177 0.06381239 0.06111846 0.0594107  0.05943476 0.06316296\n",
            " 0.05017438 0.06008419 0.044546   0.04432952 0.04834636 0.05919423\n",
            " 0.06900782 0.06819002 0.06248948 0.06164762 0.07011425 0.06944077\n",
            " 0.06956103 0.07206254 0.06987372 0.06660253 0.06806975 0.06494287\n",
            " 0.05654841 0.05972339 0.06179194 0.06042776 0.05917728 0.05841667\n",
            " 0.0580195  0.05787265 0.05789631 0.05803823 0.05826374 0.05854774\n",
            " 0.05886969 0.05921129 0.05955701 0.05989352 0.060211   0.06050244\n",
            " 0.06076331 0.06099215 0.06118942 0.06135779 0.06150021 0.06162083\n",
            " 0.06172426 0.06181534 0.06189815 0.06197695 0.06205497 0.06213531\n",
            " 0.06222004 0.06231052 0.06240771 0.06251199 0.06262327 0.0627412\n",
            " 0.06286515 0.06299419 0.06312746 0.06326407 0.06340314 0.0635439\n",
            " 0.06368577 0.06382814 0.06397054 0.06411269 0.06425436 0.0643955\n",
            " 0.06453609 0.06467621 0.06481598 0.06495558 0.06509519 0.06523497\n",
            " 0.06537512 0.06551584 0.06565723 0.06579946]\n",
            "25 day output [[0.06594261]]\n",
            "26 day input [0.0527721  0.05921828 0.05712568 0.06126278 0.06361996 0.05455201\n",
            " 0.06292243 0.05488876 0.05950692 0.05924233 0.06405292 0.08192423\n",
            " 0.07398677 0.07420325 0.07304871 0.06898376 0.06167168 0.06535177\n",
            " 0.06381239 0.06111846 0.0594107  0.05943476 0.06316296 0.05017438\n",
            " 0.06008419 0.044546   0.04432952 0.04834636 0.05919423 0.06900782\n",
            " 0.06819002 0.06248948 0.06164762 0.07011425 0.06944077 0.06956103\n",
            " 0.07206254 0.06987372 0.06660253 0.06806975 0.06494287 0.05654841\n",
            " 0.05972339 0.06179194 0.06042776 0.05917728 0.05841667 0.0580195\n",
            " 0.05787265 0.05789631 0.05803823 0.05826374 0.05854774 0.05886969\n",
            " 0.05921129 0.05955701 0.05989352 0.060211   0.06050244 0.06076331\n",
            " 0.06099215 0.06118942 0.06135779 0.06150021 0.06162083 0.06172426\n",
            " 0.06181534 0.06189815 0.06197695 0.06205497 0.06213531 0.06222004\n",
            " 0.06231052 0.06240771 0.06251199 0.06262327 0.0627412  0.06286515\n",
            " 0.06299419 0.06312746 0.06326407 0.06340314 0.0635439  0.06368577\n",
            " 0.06382814 0.06397054 0.06411269 0.06425436 0.0643955  0.06453609\n",
            " 0.06467621 0.06481598 0.06495558 0.06509519 0.06523497 0.06537512\n",
            " 0.06551584 0.06565723 0.06579946 0.06594261]\n",
            "26 day output [[0.06608678]]\n",
            "27 day input [0.05921828 0.05712568 0.06126278 0.06361996 0.05455201 0.06292243\n",
            " 0.05488876 0.05950692 0.05924233 0.06405292 0.08192423 0.07398677\n",
            " 0.07420325 0.07304871 0.06898376 0.06167168 0.06535177 0.06381239\n",
            " 0.06111846 0.0594107  0.05943476 0.06316296 0.05017438 0.06008419\n",
            " 0.044546   0.04432952 0.04834636 0.05919423 0.06900782 0.06819002\n",
            " 0.06248948 0.06164762 0.07011425 0.06944077 0.06956103 0.07206254\n",
            " 0.06987372 0.06660253 0.06806975 0.06494287 0.05654841 0.05972339\n",
            " 0.06179194 0.06042776 0.05917728 0.05841667 0.0580195  0.05787265\n",
            " 0.05789631 0.05803823 0.05826374 0.05854774 0.05886969 0.05921129\n",
            " 0.05955701 0.05989352 0.060211   0.06050244 0.06076331 0.06099215\n",
            " 0.06118942 0.06135779 0.06150021 0.06162083 0.06172426 0.06181534\n",
            " 0.06189815 0.06197695 0.06205497 0.06213531 0.06222004 0.06231052\n",
            " 0.06240771 0.06251199 0.06262327 0.0627412  0.06286515 0.06299419\n",
            " 0.06312746 0.06326407 0.06340314 0.0635439  0.06368577 0.06382814\n",
            " 0.06397054 0.06411269 0.06425436 0.0643955  0.06453609 0.06467621\n",
            " 0.06481598 0.06495558 0.06509519 0.06523497 0.06537512 0.06551584\n",
            " 0.06565723 0.06579946 0.06594261 0.06608678]\n",
            "27 day output [[0.06623198]]\n",
            "28 day input [0.05712568 0.06126278 0.06361996 0.05455201 0.06292243 0.05488876\n",
            " 0.05950692 0.05924233 0.06405292 0.08192423 0.07398677 0.07420325\n",
            " 0.07304871 0.06898376 0.06167168 0.06535177 0.06381239 0.06111846\n",
            " 0.0594107  0.05943476 0.06316296 0.05017438 0.06008419 0.044546\n",
            " 0.04432952 0.04834636 0.05919423 0.06900782 0.06819002 0.06248948\n",
            " 0.06164762 0.07011425 0.06944077 0.06956103 0.07206254 0.06987372\n",
            " 0.06660253 0.06806975 0.06494287 0.05654841 0.05972339 0.06179194\n",
            " 0.06042776 0.05917728 0.05841667 0.0580195  0.05787265 0.05789631\n",
            " 0.05803823 0.05826374 0.05854774 0.05886969 0.05921129 0.05955701\n",
            " 0.05989352 0.060211   0.06050244 0.06076331 0.06099215 0.06118942\n",
            " 0.06135779 0.06150021 0.06162083 0.06172426 0.06181534 0.06189815\n",
            " 0.06197695 0.06205497 0.06213531 0.06222004 0.06231052 0.06240771\n",
            " 0.06251199 0.06262327 0.0627412  0.06286515 0.06299419 0.06312746\n",
            " 0.06326407 0.06340314 0.0635439  0.06368577 0.06382814 0.06397054\n",
            " 0.06411269 0.06425436 0.0643955  0.06453609 0.06467621 0.06481598\n",
            " 0.06495558 0.06509519 0.06523497 0.06537512 0.06551584 0.06565723\n",
            " 0.06579946 0.06594261 0.06608678 0.06623198]\n",
            "28 day output [[0.06637827]]\n",
            "29 day input [0.06126278 0.06361996 0.05455201 0.06292243 0.05488876 0.05950692\n",
            " 0.05924233 0.06405292 0.08192423 0.07398677 0.07420325 0.07304871\n",
            " 0.06898376 0.06167168 0.06535177 0.06381239 0.06111846 0.0594107\n",
            " 0.05943476 0.06316296 0.05017438 0.06008419 0.044546   0.04432952\n",
            " 0.04834636 0.05919423 0.06900782 0.06819002 0.06248948 0.06164762\n",
            " 0.07011425 0.06944077 0.06956103 0.07206254 0.06987372 0.06660253\n",
            " 0.06806975 0.06494287 0.05654841 0.05972339 0.06179194 0.06042776\n",
            " 0.05917728 0.05841667 0.0580195  0.05787265 0.05789631 0.05803823\n",
            " 0.05826374 0.05854774 0.05886969 0.05921129 0.05955701 0.05989352\n",
            " 0.060211   0.06050244 0.06076331 0.06099215 0.06118942 0.06135779\n",
            " 0.06150021 0.06162083 0.06172426 0.06181534 0.06189815 0.06197695\n",
            " 0.06205497 0.06213531 0.06222004 0.06231052 0.06240771 0.06251199\n",
            " 0.06262327 0.0627412  0.06286515 0.06299419 0.06312746 0.06326407\n",
            " 0.06340314 0.0635439  0.06368577 0.06382814 0.06397054 0.06411269\n",
            " 0.06425436 0.0643955  0.06453609 0.06467621 0.06481598 0.06495558\n",
            " 0.06509519 0.06523497 0.06537512 0.06551584 0.06565723 0.06579946\n",
            " 0.06594261 0.06608678 0.06623198 0.06637827]\n",
            "29 day output [[0.06652567]]\n",
            "[[0.06251198798418045], [0.0626232698559761], [0.06274119764566422], [0.06286514550447464], [0.06299418956041336], [0.06312745809555054], [0.06326407194137573], [0.06340314447879791], [0.063543900847435], [0.06368577480316162], [0.06382814049720764], [0.06397054344415665], [0.06411269307136536], [0.06425435841083527], [0.06439550220966339], [0.06453608721494675], [0.0646762102842331], [0.06481597572565079], [0.06495558470487595], [0.06509518623352051], [0.0652349665760994], [0.06537511944770813], [0.06551583856344223], [0.06565722823143005], [0.06579945981502533], [0.06594260782003403], [0.0660867765545845], [0.06623198091983795], [0.06637826561927795], [0.0665256679058075]]\n"
          ],
          "name": "stdout"
        }
      ]
    },
    {
      "cell_type": "code",
      "metadata": {
        "id": "Sy6oY_HmrIXD"
      },
      "source": [
        "day_new=np.arange(1,101)\n",
        "day_pred=np.arange(101,131)"
      ],
      "execution_count": null,
      "outputs": []
    },
    {
      "cell_type": "code",
      "metadata": {
        "id": "W3pdPG1mrIXD"
      },
      "source": [
        "import matplotlib.pyplot as plt"
      ],
      "execution_count": null,
      "outputs": []
    },
    {
      "cell_type": "code",
      "metadata": {
        "colab": {
          "base_uri": "https://localhost:8080/"
        },
        "id": "iJS-7nJWrIXD",
        "outputId": "2cd49920-4612-4449-f155-f94cf846e54a"
      },
      "source": [
        "len(df1)"
      ],
      "execution_count": null,
      "outputs": [
        {
          "output_type": "execute_result",
          "data": {
            "text/plain": [
              "1258"
            ]
          },
          "metadata": {
            "tags": []
          },
          "execution_count": 45
        }
      ]
    },
    {
      "cell_type": "code",
      "metadata": {
        "colab": {
          "base_uri": "https://localhost:8080/",
          "height": 282
        },
        "id": "232gfgGcrIXD",
        "outputId": "91d85e47-66c9-4cd9-a5ac-7c12f715cfb5"
      },
      "source": [
        "plt.plot(day_new,scaler.inverse_transform(df1[1158:]))\n",
        "plt.plot(day_pred,scaler.inverse_transform(lst_output))"
      ],
      "execution_count": null,
      "outputs": [
        {
          "output_type": "execute_result",
          "data": {
            "text/plain": [
              "[<matplotlib.lines.Line2D at 0x7fce6d41e5c0>]"
            ]
          },
          "metadata": {
            "tags": []
          },
          "execution_count": 46
        },
        {
          "output_type": "display_data",
          "data": {
            "image/png": "[encoded data removed]",
            "text/plain": [
              "<Figure size 432x288 with 1 Axes>"
            ]
          },
          "metadata": {
            "tags": [],
            "needs_background": "light"
          }
        }
      ]
    },
    {
      "cell_type": "code",
      "metadata": {
        "colab": {
          "base_uri": "https://localhost:8080/",
          "height": 282
        },
        "id": "onbc8tW1rIXD",
        "outputId": "f9e9e125-f317-4cee-f545-da52eb1ea9c4"
      },
      "source": [
        "df3=df1.tolist()\n",
        "df3.extend(lst_output)\n",
        "plt.plot(df3[1200:])"
      ],
      "execution_count": null,
      "outputs": [
        {
          "output_type": "execute_result",
          "data": {
            "text/plain": [
              "[<matplotlib.lines.Line2D at 0x7fce323ccbe0>]"
            ]
          },
          "metadata": {
            "tags": []
          },
          "execution_count": 47
        },
        {
          "output_type": "display_data",
          "data": {
            "image/png": "[encoded data removed]",
            "text/plain": [
              "<Figure size 432x288 with 1 Axes>"
            ]
          },
          "metadata": {
            "tags": [],
            "needs_background": "light"
          }
        }
      ]
    },
    {
      "cell_type": "code",
      "metadata": {
        "id": "kbA5LC8urIXD"
      },
      "source": [
        "df3=scaler.inverse_transform(df3).tolist()"
      ],
      "execution_count": null,
      "outputs": []
    },
    {
      "cell_type": "code",
      "metadata": {
        "colab": {
          "base_uri": "https://localhost:8080/",
          "height": 282
        },
        "id": "gyk6zcRhrIXD",
        "outputId": "38337e0a-5235-40a6-c502-19ed638db283"
      },
      "source": [
        "plt.plot(df3)"
      ],
      "execution_count": null,
      "outputs": [
        {
          "output_type": "execute_result",
          "data": {
            "text/plain": [
              "[<matplotlib.lines.Line2D at 0x7fce3243dcf8>]"
            ]
          },
          "metadata": {
            "tags": []
          },
          "execution_count": 49
        },
        {
          "output_type": "display_data",
          "data": {
            "image/png": "[encoded data removed]",
            "text/plain": [
              "<Figure size 432x288 with 1 Axes>"
            ]
          },
          "metadata": {
            "tags": [],
            "needs_background": "light"
          }
        }
      ]
    },
    {
      "cell_type": "code",
      "metadata": {
        "colab": {
          "base_uri": "https://localhost:8080/"
        },
        "id": "FiWMTUCerIXD",
        "outputId": "10084511-4943-45da-d6e8-11124332e4c0"
      },
      "source": [
        "from platform import python_version\n",
        "print(python_version())"
      ],
      "execution_count": null,
      "outputs": [
        {
          "output_type": "stream",
          "text": [
            "3.6.9\n"
          ],
          "name": "stdout"
        }
      ]
    },
    {
      "cell_type": "code",
      "metadata": {
        "id": "tx2CL3rMrIXD"
      },
      "source": [
        ""
      ],
      "execution_count": null,
      "outputs": []
    }
  ]
}